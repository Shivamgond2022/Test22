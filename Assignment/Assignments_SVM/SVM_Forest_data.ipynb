{
  "nbformat": 4,
  "nbformat_minor": 0,
  "metadata": {
    "colab": {
      "provenance": []
    },
    "kernelspec": {
      "name": "python3",
      "display_name": "Python 3"
    },
    "language_info": {
      "name": "python"
    }
  },
  "cells": [
    {
      "cell_type": "markdown",
      "source": [
        "classify the Size_Categorie using SVM\n",
        "\n",
        "month\tmonth of the year: 'jan' to 'dec'\n",
        "day\tday of the week: 'mon' to 'sun'\n",
        "FFMC\tFFMC index from the FWI system: 18.7 to 96.20\n",
        "DMC\tDMC index from the FWI system: 1.1 to 291.3\n",
        "DC\tDC index from the FWI system: 7.9 to 860.6\n",
        "ISI\tISI index from the FWI system: 0.0 to 56.10\n",
        "temp\ttemperature in Celsius degrees: 2.2 to 33.30\n",
        "RH\trelative humidity in %: 15.0 to 100\n",
        "wind\twind speed in km/h: 0.40 to 9.40\n",
        "rain\toutside rain in mm/m2 : 0.0 to 6.4\n",
        "Size_Categorie \tthe burned area of the forest ( Small , Large)"
      ],
      "metadata": {
        "id": "V1Dt3fiI5zoy"
      }
    },
    {
      "cell_type": "code",
      "execution_count": 3,
      "metadata": {
        "id": "47w6Xv3H48Yl"
      },
      "outputs": [],
      "source": [
        "import pandas as pd\n",
        "import numpy as np\n",
        "import matplotlib.pyplot as plt\n",
        "from sklearn.model_selection import train_test_split, GridSearchCV, cross_val_score\n",
        "from sklearn.svm import SVC\n",
        "from sklearn.metrics import classification_report, accuracy_score, confusion_matrix"
      ]
    },
    {
      "cell_type": "code",
      "source": [
        "data = pd.read_csv(\"/content/forestfires.csv\")\n",
        "data"
      ],
      "metadata": {
        "colab": {
          "base_uri": "https://localhost:8080/",
          "height": 488
        },
        "id": "WM4__Wz1QVgd",
        "outputId": "8620c15a-99a3-4623-a51b-937852466aff"
      },
      "execution_count": 4,
      "outputs": [
        {
          "output_type": "execute_result",
          "data": {
            "text/plain": [
              "    month  day  FFMC    DMC     DC   ISI  temp  RH  wind  rain  ...  monthfeb  \\\n",
              "0     mar  fri  86.2   26.2   94.3   5.1   8.2  51   6.7   0.0  ...         0   \n",
              "1     oct  tue  90.6   35.4  669.1   6.7  18.0  33   0.9   0.0  ...         0   \n",
              "2     oct  sat  90.6   43.7  686.9   6.7  14.6  33   1.3   0.0  ...         0   \n",
              "3     mar  fri  91.7   33.3   77.5   9.0   8.3  97   4.0   0.2  ...         0   \n",
              "4     mar  sun  89.3   51.3  102.2   9.6  11.4  99   1.8   0.0  ...         0   \n",
              "..    ...  ...   ...    ...    ...   ...   ...  ..   ...   ...  ...       ...   \n",
              "512   aug  sun  81.6   56.7  665.6   1.9  27.8  32   2.7   0.0  ...         0   \n",
              "513   aug  sun  81.6   56.7  665.6   1.9  21.9  71   5.8   0.0  ...         0   \n",
              "514   aug  sun  81.6   56.7  665.6   1.9  21.2  70   6.7   0.0  ...         0   \n",
              "515   aug  sat  94.4  146.0  614.7  11.3  25.6  42   4.0   0.0  ...         0   \n",
              "516   nov  tue  79.5    3.0  106.7   1.1  11.8  31   4.5   0.0  ...         0   \n",
              "\n",
              "     monthjan  monthjul  monthjun  monthmar  monthmay  monthnov  monthoct  \\\n",
              "0           0         0         0         1         0         0         0   \n",
              "1           0         0         0         0         0         0         1   \n",
              "2           0         0         0         0         0         0         1   \n",
              "3           0         0         0         1         0         0         0   \n",
              "4           0         0         0         1         0         0         0   \n",
              "..        ...       ...       ...       ...       ...       ...       ...   \n",
              "512         0         0         0         0         0         0         0   \n",
              "513         0         0         0         0         0         0         0   \n",
              "514         0         0         0         0         0         0         0   \n",
              "515         0         0         0         0         0         0         0   \n",
              "516         0         0         0         0         0         1         0   \n",
              "\n",
              "     monthsep  size_category  \n",
              "0           0          small  \n",
              "1           0          small  \n",
              "2           0          small  \n",
              "3           0          small  \n",
              "4           0          small  \n",
              "..        ...            ...  \n",
              "512         0          large  \n",
              "513         0          large  \n",
              "514         0          large  \n",
              "515         0          small  \n",
              "516         0          small  \n",
              "\n",
              "[517 rows x 31 columns]"
            ],
            "text/html": [
              "\n",
              "  <div id=\"df-a93f767c-a7cf-4f58-baa8-2e85f56f44c2\">\n",
              "    <div class=\"colab-df-container\">\n",
              "      <div>\n",
              "<style scoped>\n",
              "    .dataframe tbody tr th:only-of-type {\n",
              "        vertical-align: middle;\n",
              "    }\n",
              "\n",
              "    .dataframe tbody tr th {\n",
              "        vertical-align: top;\n",
              "    }\n",
              "\n",
              "    .dataframe thead th {\n",
              "        text-align: right;\n",
              "    }\n",
              "</style>\n",
              "<table border=\"1\" class=\"dataframe\">\n",
              "  <thead>\n",
              "    <tr style=\"text-align: right;\">\n",
              "      <th></th>\n",
              "      <th>month</th>\n",
              "      <th>day</th>\n",
              "      <th>FFMC</th>\n",
              "      <th>DMC</th>\n",
              "      <th>DC</th>\n",
              "      <th>ISI</th>\n",
              "      <th>temp</th>\n",
              "      <th>RH</th>\n",
              "      <th>wind</th>\n",
              "      <th>rain</th>\n",
              "      <th>...</th>\n",
              "      <th>monthfeb</th>\n",
              "      <th>monthjan</th>\n",
              "      <th>monthjul</th>\n",
              "      <th>monthjun</th>\n",
              "      <th>monthmar</th>\n",
              "      <th>monthmay</th>\n",
              "      <th>monthnov</th>\n",
              "      <th>monthoct</th>\n",
              "      <th>monthsep</th>\n",
              "      <th>size_category</th>\n",
              "    </tr>\n",
              "  </thead>\n",
              "  <tbody>\n",
              "    <tr>\n",
              "      <th>0</th>\n",
              "      <td>mar</td>\n",
              "      <td>fri</td>\n",
              "      <td>86.2</td>\n",
              "      <td>26.2</td>\n",
              "      <td>94.3</td>\n",
              "      <td>5.1</td>\n",
              "      <td>8.2</td>\n",
              "      <td>51</td>\n",
              "      <td>6.7</td>\n",
              "      <td>0.0</td>\n",
              "      <td>...</td>\n",
              "      <td>0</td>\n",
              "      <td>0</td>\n",
              "      <td>0</td>\n",
              "      <td>0</td>\n",
              "      <td>1</td>\n",
              "      <td>0</td>\n",
              "      <td>0</td>\n",
              "      <td>0</td>\n",
              "      <td>0</td>\n",
              "      <td>small</td>\n",
              "    </tr>\n",
              "    <tr>\n",
              "      <th>1</th>\n",
              "      <td>oct</td>\n",
              "      <td>tue</td>\n",
              "      <td>90.6</td>\n",
              "      <td>35.4</td>\n",
              "      <td>669.1</td>\n",
              "      <td>6.7</td>\n",
              "      <td>18.0</td>\n",
              "      <td>33</td>\n",
              "      <td>0.9</td>\n",
              "      <td>0.0</td>\n",
              "      <td>...</td>\n",
              "      <td>0</td>\n",
              "      <td>0</td>\n",
              "      <td>0</td>\n",
              "      <td>0</td>\n",
              "      <td>0</td>\n",
              "      <td>0</td>\n",
              "      <td>0</td>\n",
              "      <td>1</td>\n",
              "      <td>0</td>\n",
              "      <td>small</td>\n",
              "    </tr>\n",
              "    <tr>\n",
              "      <th>2</th>\n",
              "      <td>oct</td>\n",
              "      <td>sat</td>\n",
              "      <td>90.6</td>\n",
              "      <td>43.7</td>\n",
              "      <td>686.9</td>\n",
              "      <td>6.7</td>\n",
              "      <td>14.6</td>\n",
              "      <td>33</td>\n",
              "      <td>1.3</td>\n",
              "      <td>0.0</td>\n",
              "      <td>...</td>\n",
              "      <td>0</td>\n",
              "      <td>0</td>\n",
              "      <td>0</td>\n",
              "      <td>0</td>\n",
              "      <td>0</td>\n",
              "      <td>0</td>\n",
              "      <td>0</td>\n",
              "      <td>1</td>\n",
              "      <td>0</td>\n",
              "      <td>small</td>\n",
              "    </tr>\n",
              "    <tr>\n",
              "      <th>3</th>\n",
              "      <td>mar</td>\n",
              "      <td>fri</td>\n",
              "      <td>91.7</td>\n",
              "      <td>33.3</td>\n",
              "      <td>77.5</td>\n",
              "      <td>9.0</td>\n",
              "      <td>8.3</td>\n",
              "      <td>97</td>\n",
              "      <td>4.0</td>\n",
              "      <td>0.2</td>\n",
              "      <td>...</td>\n",
              "      <td>0</td>\n",
              "      <td>0</td>\n",
              "      <td>0</td>\n",
              "      <td>0</td>\n",
              "      <td>1</td>\n",
              "      <td>0</td>\n",
              "      <td>0</td>\n",
              "      <td>0</td>\n",
              "      <td>0</td>\n",
              "      <td>small</td>\n",
              "    </tr>\n",
              "    <tr>\n",
              "      <th>4</th>\n",
              "      <td>mar</td>\n",
              "      <td>sun</td>\n",
              "      <td>89.3</td>\n",
              "      <td>51.3</td>\n",
              "      <td>102.2</td>\n",
              "      <td>9.6</td>\n",
              "      <td>11.4</td>\n",
              "      <td>99</td>\n",
              "      <td>1.8</td>\n",
              "      <td>0.0</td>\n",
              "      <td>...</td>\n",
              "      <td>0</td>\n",
              "      <td>0</td>\n",
              "      <td>0</td>\n",
              "      <td>0</td>\n",
              "      <td>1</td>\n",
              "      <td>0</td>\n",
              "      <td>0</td>\n",
              "      <td>0</td>\n",
              "      <td>0</td>\n",
              "      <td>small</td>\n",
              "    </tr>\n",
              "    <tr>\n",
              "      <th>...</th>\n",
              "      <td>...</td>\n",
              "      <td>...</td>\n",
              "      <td>...</td>\n",
              "      <td>...</td>\n",
              "      <td>...</td>\n",
              "      <td>...</td>\n",
              "      <td>...</td>\n",
              "      <td>...</td>\n",
              "      <td>...</td>\n",
              "      <td>...</td>\n",
              "      <td>...</td>\n",
              "      <td>...</td>\n",
              "      <td>...</td>\n",
              "      <td>...</td>\n",
              "      <td>...</td>\n",
              "      <td>...</td>\n",
              "      <td>...</td>\n",
              "      <td>...</td>\n",
              "      <td>...</td>\n",
              "      <td>...</td>\n",
              "      <td>...</td>\n",
              "    </tr>\n",
              "    <tr>\n",
              "      <th>512</th>\n",
              "      <td>aug</td>\n",
              "      <td>sun</td>\n",
              "      <td>81.6</td>\n",
              "      <td>56.7</td>\n",
              "      <td>665.6</td>\n",
              "      <td>1.9</td>\n",
              "      <td>27.8</td>\n",
              "      <td>32</td>\n",
              "      <td>2.7</td>\n",
              "      <td>0.0</td>\n",
              "      <td>...</td>\n",
              "      <td>0</td>\n",
              "      <td>0</td>\n",
              "      <td>0</td>\n",
              "      <td>0</td>\n",
              "      <td>0</td>\n",
              "      <td>0</td>\n",
              "      <td>0</td>\n",
              "      <td>0</td>\n",
              "      <td>0</td>\n",
              "      <td>large</td>\n",
              "    </tr>\n",
              "    <tr>\n",
              "      <th>513</th>\n",
              "      <td>aug</td>\n",
              "      <td>sun</td>\n",
              "      <td>81.6</td>\n",
              "      <td>56.7</td>\n",
              "      <td>665.6</td>\n",
              "      <td>1.9</td>\n",
              "      <td>21.9</td>\n",
              "      <td>71</td>\n",
              "      <td>5.8</td>\n",
              "      <td>0.0</td>\n",
              "      <td>...</td>\n",
              "      <td>0</td>\n",
              "      <td>0</td>\n",
              "      <td>0</td>\n",
              "      <td>0</td>\n",
              "      <td>0</td>\n",
              "      <td>0</td>\n",
              "      <td>0</td>\n",
              "      <td>0</td>\n",
              "      <td>0</td>\n",
              "      <td>large</td>\n",
              "    </tr>\n",
              "    <tr>\n",
              "      <th>514</th>\n",
              "      <td>aug</td>\n",
              "      <td>sun</td>\n",
              "      <td>81.6</td>\n",
              "      <td>56.7</td>\n",
              "      <td>665.6</td>\n",
              "      <td>1.9</td>\n",
              "      <td>21.2</td>\n",
              "      <td>70</td>\n",
              "      <td>6.7</td>\n",
              "      <td>0.0</td>\n",
              "      <td>...</td>\n",
              "      <td>0</td>\n",
              "      <td>0</td>\n",
              "      <td>0</td>\n",
              "      <td>0</td>\n",
              "      <td>0</td>\n",
              "      <td>0</td>\n",
              "      <td>0</td>\n",
              "      <td>0</td>\n",
              "      <td>0</td>\n",
              "      <td>large</td>\n",
              "    </tr>\n",
              "    <tr>\n",
              "      <th>515</th>\n",
              "      <td>aug</td>\n",
              "      <td>sat</td>\n",
              "      <td>94.4</td>\n",
              "      <td>146.0</td>\n",
              "      <td>614.7</td>\n",
              "      <td>11.3</td>\n",
              "      <td>25.6</td>\n",
              "      <td>42</td>\n",
              "      <td>4.0</td>\n",
              "      <td>0.0</td>\n",
              "      <td>...</td>\n",
              "      <td>0</td>\n",
              "      <td>0</td>\n",
              "      <td>0</td>\n",
              "      <td>0</td>\n",
              "      <td>0</td>\n",
              "      <td>0</td>\n",
              "      <td>0</td>\n",
              "      <td>0</td>\n",
              "      <td>0</td>\n",
              "      <td>small</td>\n",
              "    </tr>\n",
              "    <tr>\n",
              "      <th>516</th>\n",
              "      <td>nov</td>\n",
              "      <td>tue</td>\n",
              "      <td>79.5</td>\n",
              "      <td>3.0</td>\n",
              "      <td>106.7</td>\n",
              "      <td>1.1</td>\n",
              "      <td>11.8</td>\n",
              "      <td>31</td>\n",
              "      <td>4.5</td>\n",
              "      <td>0.0</td>\n",
              "      <td>...</td>\n",
              "      <td>0</td>\n",
              "      <td>0</td>\n",
              "      <td>0</td>\n",
              "      <td>0</td>\n",
              "      <td>0</td>\n",
              "      <td>0</td>\n",
              "      <td>1</td>\n",
              "      <td>0</td>\n",
              "      <td>0</td>\n",
              "      <td>small</td>\n",
              "    </tr>\n",
              "  </tbody>\n",
              "</table>\n",
              "<p>517 rows × 31 columns</p>\n",
              "</div>\n",
              "      <button class=\"colab-df-convert\" onclick=\"convertToInteractive('df-a93f767c-a7cf-4f58-baa8-2e85f56f44c2')\"\n",
              "              title=\"Convert this dataframe to an interactive table.\"\n",
              "              style=\"display:none;\">\n",
              "        \n",
              "  <svg xmlns=\"http://www.w3.org/2000/svg\" height=\"24px\"viewBox=\"0 0 24 24\"\n",
              "       width=\"24px\">\n",
              "    <path d=\"M0 0h24v24H0V0z\" fill=\"none\"/>\n",
              "    <path d=\"M18.56 5.44l.94 2.06.94-2.06 2.06-.94-2.06-.94-.94-2.06-.94 2.06-2.06.94zm-11 1L8.5 8.5l.94-2.06 2.06-.94-2.06-.94L8.5 2.5l-.94 2.06-2.06.94zm10 10l.94 2.06.94-2.06 2.06-.94-2.06-.94-.94-2.06-.94 2.06-2.06.94z\"/><path d=\"M17.41 7.96l-1.37-1.37c-.4-.4-.92-.59-1.43-.59-.52 0-1.04.2-1.43.59L10.3 9.45l-7.72 7.72c-.78.78-.78 2.05 0 2.83L4 21.41c.39.39.9.59 1.41.59.51 0 1.02-.2 1.41-.59l7.78-7.78 2.81-2.81c.8-.78.8-2.07 0-2.86zM5.41 20L4 18.59l7.72-7.72 1.47 1.35L5.41 20z\"/>\n",
              "  </svg>\n",
              "      </button>\n",
              "      \n",
              "  <style>\n",
              "    .colab-df-container {\n",
              "      display:flex;\n",
              "      flex-wrap:wrap;\n",
              "      gap: 12px;\n",
              "    }\n",
              "\n",
              "    .colab-df-convert {\n",
              "      background-color: #E8F0FE;\n",
              "      border: none;\n",
              "      border-radius: 50%;\n",
              "      cursor: pointer;\n",
              "      display: none;\n",
              "      fill: #1967D2;\n",
              "      height: 32px;\n",
              "      padding: 0 0 0 0;\n",
              "      width: 32px;\n",
              "    }\n",
              "\n",
              "    .colab-df-convert:hover {\n",
              "      background-color: #E2EBFA;\n",
              "      box-shadow: 0px 1px 2px rgba(60, 64, 67, 0.3), 0px 1px 3px 1px rgba(60, 64, 67, 0.15);\n",
              "      fill: #174EA6;\n",
              "    }\n",
              "\n",
              "    [theme=dark] .colab-df-convert {\n",
              "      background-color: #3B4455;\n",
              "      fill: #D2E3FC;\n",
              "    }\n",
              "\n",
              "    [theme=dark] .colab-df-convert:hover {\n",
              "      background-color: #434B5C;\n",
              "      box-shadow: 0px 1px 3px 1px rgba(0, 0, 0, 0.15);\n",
              "      filter: drop-shadow(0px 1px 2px rgba(0, 0, 0, 0.3));\n",
              "      fill: #FFFFFF;\n",
              "    }\n",
              "  </style>\n",
              "\n",
              "      <script>\n",
              "        const buttonEl =\n",
              "          document.querySelector('#df-a93f767c-a7cf-4f58-baa8-2e85f56f44c2 button.colab-df-convert');\n",
              "        buttonEl.style.display =\n",
              "          google.colab.kernel.accessAllowed ? 'block' : 'none';\n",
              "\n",
              "        async function convertToInteractive(key) {\n",
              "          const element = document.querySelector('#df-a93f767c-a7cf-4f58-baa8-2e85f56f44c2');\n",
              "          const dataTable =\n",
              "            await google.colab.kernel.invokeFunction('convertToInteractive',\n",
              "                                                     [key], {});\n",
              "          if (!dataTable) return;\n",
              "\n",
              "          const docLinkHtml = 'Like what you see? Visit the ' +\n",
              "            '<a target=\"_blank\" href=https://colab.research.google.com/notebooks/data_table.ipynb>data table notebook</a>'\n",
              "            + ' to learn more about interactive tables.';\n",
              "          element.innerHTML = '';\n",
              "          dataTable['output_type'] = 'display_data';\n",
              "          await google.colab.output.renderOutput(dataTable, element);\n",
              "          const docLink = document.createElement('div');\n",
              "          docLink.innerHTML = docLinkHtml;\n",
              "          element.appendChild(docLink);\n",
              "        }\n",
              "      </script>\n",
              "    </div>\n",
              "  </div>\n",
              "  "
            ]
          },
          "metadata": {},
          "execution_count": 4
        }
      ]
    },
    {
      "cell_type": "markdown",
      "source": [
        "# EDA"
      ],
      "metadata": {
        "id": "iPWAjp4VNCPw"
      }
    },
    {
      "cell_type": "code",
      "source": [
        "data.info()"
      ],
      "metadata": {
        "colab": {
          "base_uri": "https://localhost:8080/"
        },
        "id": "l_JIFwTHDFpx",
        "outputId": "b2f1fec2-21a5-480b-b4b2-9693386f3d8f"
      },
      "execution_count": 5,
      "outputs": [
        {
          "output_type": "stream",
          "name": "stdout",
          "text": [
            "<class 'pandas.core.frame.DataFrame'>\n",
            "RangeIndex: 517 entries, 0 to 516\n",
            "Data columns (total 31 columns):\n",
            " #   Column         Non-Null Count  Dtype  \n",
            "---  ------         --------------  -----  \n",
            " 0   month          517 non-null    object \n",
            " 1   day            517 non-null    object \n",
            " 2   FFMC           517 non-null    float64\n",
            " 3   DMC            517 non-null    float64\n",
            " 4   DC             517 non-null    float64\n",
            " 5   ISI            517 non-null    float64\n",
            " 6   temp           517 non-null    float64\n",
            " 7   RH             517 non-null    int64  \n",
            " 8   wind           517 non-null    float64\n",
            " 9   rain           517 non-null    float64\n",
            " 10  area           517 non-null    float64\n",
            " 11  dayfri         517 non-null    int64  \n",
            " 12  daymon         517 non-null    int64  \n",
            " 13  daysat         517 non-null    int64  \n",
            " 14  daysun         517 non-null    int64  \n",
            " 15  daythu         517 non-null    int64  \n",
            " 16  daytue         517 non-null    int64  \n",
            " 17  daywed         517 non-null    int64  \n",
            " 18  monthapr       517 non-null    int64  \n",
            " 19  monthaug       517 non-null    int64  \n",
            " 20  monthdec       517 non-null    int64  \n",
            " 21  monthfeb       517 non-null    int64  \n",
            " 22  monthjan       517 non-null    int64  \n",
            " 23  monthjul       517 non-null    int64  \n",
            " 24  monthjun       517 non-null    int64  \n",
            " 25  monthmar       517 non-null    int64  \n",
            " 26  monthmay       517 non-null    int64  \n",
            " 27  monthnov       517 non-null    int64  \n",
            " 28  monthoct       517 non-null    int64  \n",
            " 29  monthsep       517 non-null    int64  \n",
            " 30  size_category  517 non-null    object \n",
            "dtypes: float64(8), int64(20), object(3)\n",
            "memory usage: 125.3+ KB\n"
          ]
        }
      ]
    },
    {
      "cell_type": "code",
      "source": [
        "data.shape"
      ],
      "metadata": {
        "colab": {
          "base_uri": "https://localhost:8080/"
        },
        "id": "qSC6Xw58EnU7",
        "outputId": "3f17e98d-fb72-4ca5-c170-0dde99311662"
      },
      "execution_count": 6,
      "outputs": [
        {
          "output_type": "execute_result",
          "data": {
            "text/plain": [
              "(517, 31)"
            ]
          },
          "metadata": {},
          "execution_count": 6
        }
      ]
    },
    {
      "cell_type": "code",
      "source": [
        "data.corr()"
      ],
      "metadata": {
        "colab": {
          "base_uri": "https://localhost:8080/",
          "height": 1000
        },
        "id": "AdWBUg0OGn5K",
        "outputId": "d39420d8-e117-41d9-b1cd-d22ca6da0a3f"
      },
      "execution_count": 7,
      "outputs": [
        {
          "output_type": "execute_result",
          "data": {
            "text/plain": [
              "              FFMC       DMC        DC       ISI      temp        RH  \\\n",
              "FFMC      1.000000  0.382619  0.330512  0.531805  0.431532 -0.300995   \n",
              "DMC       0.382619  1.000000  0.682192  0.305128  0.469594  0.073795   \n",
              "DC        0.330512  0.682192  1.000000  0.229154  0.496208 -0.039192   \n",
              "ISI       0.531805  0.305128  0.229154  1.000000  0.394287 -0.132517   \n",
              "temp      0.431532  0.469594  0.496208  0.394287  1.000000 -0.527390   \n",
              "RH       -0.300995  0.073795 -0.039192 -0.132517 -0.527390  1.000000   \n",
              "wind     -0.028485 -0.105342 -0.203466  0.106826 -0.227116  0.069410   \n",
              "rain      0.056702  0.074790  0.035861  0.067668  0.069491  0.099751   \n",
              "area      0.040122  0.072994  0.049383  0.008258  0.097844 -0.075519   \n",
              "dayfri    0.019306 -0.012010 -0.004220  0.046695 -0.071949  0.064506   \n",
              "daymon   -0.059396 -0.107921 -0.052993 -0.158601 -0.136529  0.009376   \n",
              "daysat   -0.019637 -0.003653 -0.035189 -0.038585  0.034899 -0.023869   \n",
              "daysun   -0.089517  0.025355 -0.001431 -0.003243  0.014403  0.136220   \n",
              "daythu    0.071730  0.087672  0.051859 -0.022406  0.051432 -0.123061   \n",
              "daytue    0.011225  0.000016  0.028368  0.068610  0.035630 -0.014211   \n",
              "daywed    0.093908  0.017939  0.024803  0.125415  0.090580 -0.087508   \n",
              "monthapr -0.117199 -0.197543 -0.268211 -0.106478 -0.157051  0.021235   \n",
              "monthaug  0.228103  0.497928  0.279361  0.334639  0.351404  0.054761   \n",
              "monthdec -0.137044 -0.176301 -0.105642 -0.162322 -0.329648 -0.047714   \n",
              "monthfeb -0.281535 -0.317899 -0.399277 -0.249777 -0.320015  0.140430   \n",
              "monthjan -0.454771 -0.105647 -0.115064 -0.103588 -0.146520  0.170923   \n",
              "monthjul  0.031833 -0.001946 -0.100887  0.020982  0.142588  0.013185   \n",
              "monthjun -0.040634 -0.050403 -0.186183  0.111516  0.051015  0.009382   \n",
              "monthmar -0.074327 -0.407404 -0.650427 -0.143520 -0.341797 -0.089836   \n",
              "monthmay -0.037230 -0.081980 -0.114209 -0.060493 -0.045540  0.086822   \n",
              "monthnov -0.088964 -0.074218 -0.078380 -0.076559 -0.053798 -0.035885   \n",
              "monthoct -0.005998 -0.187632  0.093279 -0.071154 -0.053513 -0.072334   \n",
              "monthsep  0.076609  0.110907  0.531857 -0.068877  0.088006 -0.062596   \n",
              "\n",
              "              wind      rain      area    dayfri  ...  monthdec  monthfeb  \\\n",
              "FFMC     -0.028485  0.056702  0.040122  0.019306  ... -0.137044 -0.281535   \n",
              "DMC      -0.105342  0.074790  0.072994 -0.012010  ... -0.176301 -0.317899   \n",
              "DC       -0.203466  0.035861  0.049383 -0.004220  ... -0.105642 -0.399277   \n",
              "ISI       0.106826  0.067668  0.008258  0.046695  ... -0.162322 -0.249777   \n",
              "temp     -0.227116  0.069491  0.097844 -0.071949  ... -0.329648 -0.320015   \n",
              "RH        0.069410  0.099751 -0.075519  0.064506  ... -0.047714  0.140430   \n",
              "wind      1.000000  0.061119  0.012317  0.118090  ...  0.269702 -0.029431   \n",
              "rain      0.061119  1.000000 -0.007366 -0.004261  ... -0.009752 -0.014698   \n",
              "area      0.012317 -0.007366  1.000000 -0.052911  ...  0.001010 -0.020732   \n",
              "dayfri    0.118090 -0.004261 -0.052911  1.000000  ... -0.019140  0.046323   \n",
              "daymon   -0.063881 -0.029945 -0.021206 -0.181293  ...  0.114519  0.003933   \n",
              "daysat   -0.063799 -0.032271  0.087868 -0.195372  ... -0.058625  0.020406   \n",
              "daysun    0.027981 -0.017872 -0.020463 -0.210462  ... -0.024966  0.008416   \n",
              "daythu   -0.062553 -0.026798  0.020121 -0.162237  ... -0.002838 -0.042278   \n",
              "daytue    0.053396  0.139311 -0.001333 -0.166728  ... -0.005125 -0.014491   \n",
              "daywed   -0.019965 -0.020744 -0.011452 -0.151487  ...  0.002899 -0.035713   \n",
              "monthapr  0.048266 -0.009752 -0.008280 -0.019140  ... -0.017717 -0.026701   \n",
              "monthaug  0.028577  0.093101 -0.004187 -0.100837  ... -0.098941 -0.149116   \n",
              "monthdec  0.269702 -0.009752  0.001010 -0.019140  ...  1.000000 -0.026701   \n",
              "monthfeb -0.029431 -0.014698 -0.020732  0.046323  ... -0.026701  1.000000   \n",
              "monthjan -0.070245 -0.004566 -0.012589 -0.027643  ... -0.008295 -0.012501   \n",
              "monthjul -0.040645 -0.013390  0.006149 -0.048969  ... -0.034190 -0.051528   \n",
              "monthjun  0.012124 -0.013510 -0.020314  0.006000  ... -0.024543 -0.036989   \n",
              "monthmar  0.181433 -0.020744 -0.045596  0.036205  ... -0.045456 -0.068508   \n",
              "monthmay  0.015054 -0.004566  0.006264  0.056423  ... -0.008295 -0.012501   \n",
              "monthnov  0.011864 -0.003225 -0.008893 -0.019527  ... -0.005860 -0.008831   \n",
              "monthoct -0.053850 -0.012665 -0.016878 -0.045585  ... -0.023008 -0.034676   \n",
              "monthsep -0.181476 -0.051733  0.056573  0.107671  ... -0.093982 -0.141642   \n",
              "\n",
              "          monthjan  monthjul  monthjun  monthmar  monthmay  monthnov  \\\n",
              "FFMC     -0.454771  0.031833 -0.040634 -0.074327 -0.037230 -0.088964   \n",
              "DMC      -0.105647 -0.001946 -0.050403 -0.407404 -0.081980 -0.074218   \n",
              "DC       -0.115064 -0.100887 -0.186183 -0.650427 -0.114209 -0.078380   \n",
              "ISI      -0.103588  0.020982  0.111516 -0.143520 -0.060493 -0.076559   \n",
              "temp     -0.146520  0.142588  0.051015 -0.341797 -0.045540 -0.053798   \n",
              "RH        0.170923  0.013185  0.009382 -0.089836  0.086822 -0.035885   \n",
              "wind     -0.070245 -0.040645  0.012124  0.181433  0.015054  0.011864   \n",
              "rain     -0.004566 -0.013390 -0.013510 -0.020744 -0.004566 -0.003225   \n",
              "area     -0.012589  0.006149 -0.020314 -0.045596  0.006264 -0.008893   \n",
              "dayfri   -0.027643 -0.048969  0.006000  0.036205  0.056423 -0.019527   \n",
              "daymon   -0.025470 -0.013300  0.017553  0.077125 -0.025470 -0.017992   \n",
              "daysat    0.057019  0.060945 -0.022408  0.021024  0.057019 -0.019390   \n",
              "daysun    0.050887 -0.018241  0.024540 -0.047726 -0.029568 -0.020887   \n",
              "daythu   -0.022793 -0.019300 -0.000195 -0.026885 -0.022793 -0.016101   \n",
              "daytue   -0.023424  0.049688 -0.069308 -0.032351 -0.023424  0.117121   \n",
              "daywed   -0.021282 -0.008985  0.043422 -0.033917 -0.021282 -0.015034   \n",
              "monthapr -0.008295 -0.034190 -0.024543 -0.045456 -0.008295 -0.005860   \n",
              "monthaug -0.046323 -0.190937 -0.137065 -0.253859 -0.046323 -0.032724   \n",
              "monthdec -0.008295 -0.034190 -0.024543 -0.045456 -0.008295 -0.005860   \n",
              "monthfeb -0.012501 -0.051528 -0.036989 -0.068508 -0.012501 -0.008831   \n",
              "monthjan  1.000000 -0.016007 -0.011491 -0.021282 -0.003883 -0.002743   \n",
              "monthjul -0.016007  1.000000 -0.047363 -0.087722 -0.016007 -0.011308   \n",
              "monthjun -0.011491 -0.047363  1.000000 -0.062972 -0.011491 -0.008117   \n",
              "monthmar -0.021282 -0.087722 -0.062972  1.000000 -0.021282 -0.015034   \n",
              "monthmay -0.003883 -0.016007 -0.011491 -0.021282  1.000000 -0.002743   \n",
              "monthnov -0.002743 -0.011308 -0.008117 -0.015034 -0.002743  1.000000   \n",
              "monthoct -0.010772 -0.044402 -0.031874 -0.059034 -0.010772 -0.007610   \n",
              "monthsep -0.044001 -0.181367 -0.130195 -0.241135 -0.044001 -0.031083   \n",
              "\n",
              "          monthoct  monthsep  \n",
              "FFMC     -0.005998  0.076609  \n",
              "DMC      -0.187632  0.110907  \n",
              "DC        0.093279  0.531857  \n",
              "ISI      -0.071154 -0.068877  \n",
              "temp     -0.053513  0.088006  \n",
              "RH       -0.072334 -0.062596  \n",
              "wind     -0.053850 -0.181476  \n",
              "rain     -0.012665 -0.051733  \n",
              "area     -0.016878  0.056573  \n",
              "dayfri   -0.045585  0.107671  \n",
              "daymon    0.060975  0.039632  \n",
              "daysat    0.017584 -0.032783  \n",
              "daysun    0.007252 -0.048817  \n",
              "daythu   -0.063223  0.008984  \n",
              "daytue    0.005008 -0.028570  \n",
              "daywed    0.016325 -0.053222  \n",
              "monthapr -0.023008 -0.093982  \n",
              "monthaug -0.128493 -0.524858  \n",
              "monthdec -0.023008 -0.093982  \n",
              "monthfeb -0.034676 -0.141642  \n",
              "monthjan -0.010772 -0.044001  \n",
              "monthjul -0.044402 -0.181367  \n",
              "monthjun -0.031874 -0.130195  \n",
              "monthmar -0.059034 -0.241135  \n",
              "monthmay -0.010772 -0.044001  \n",
              "monthnov -0.007610 -0.031083  \n",
              "monthoct  1.000000 -0.122053  \n",
              "monthsep -0.122053  1.000000  \n",
              "\n",
              "[28 rows x 28 columns]"
            ],
            "text/html": [
              "\n",
              "  <div id=\"df-af1d787f-16e9-4324-acbb-ba0c26e0cd8a\">\n",
              "    <div class=\"colab-df-container\">\n",
              "      <div>\n",
              "<style scoped>\n",
              "    .dataframe tbody tr th:only-of-type {\n",
              "        vertical-align: middle;\n",
              "    }\n",
              "\n",
              "    .dataframe tbody tr th {\n",
              "        vertical-align: top;\n",
              "    }\n",
              "\n",
              "    .dataframe thead th {\n",
              "        text-align: right;\n",
              "    }\n",
              "</style>\n",
              "<table border=\"1\" class=\"dataframe\">\n",
              "  <thead>\n",
              "    <tr style=\"text-align: right;\">\n",
              "      <th></th>\n",
              "      <th>FFMC</th>\n",
              "      <th>DMC</th>\n",
              "      <th>DC</th>\n",
              "      <th>ISI</th>\n",
              "      <th>temp</th>\n",
              "      <th>RH</th>\n",
              "      <th>wind</th>\n",
              "      <th>rain</th>\n",
              "      <th>area</th>\n",
              "      <th>dayfri</th>\n",
              "      <th>...</th>\n",
              "      <th>monthdec</th>\n",
              "      <th>monthfeb</th>\n",
              "      <th>monthjan</th>\n",
              "      <th>monthjul</th>\n",
              "      <th>monthjun</th>\n",
              "      <th>monthmar</th>\n",
              "      <th>monthmay</th>\n",
              "      <th>monthnov</th>\n",
              "      <th>monthoct</th>\n",
              "      <th>monthsep</th>\n",
              "    </tr>\n",
              "  </thead>\n",
              "  <tbody>\n",
              "    <tr>\n",
              "      <th>FFMC</th>\n",
              "      <td>1.000000</td>\n",
              "      <td>0.382619</td>\n",
              "      <td>0.330512</td>\n",
              "      <td>0.531805</td>\n",
              "      <td>0.431532</td>\n",
              "      <td>-0.300995</td>\n",
              "      <td>-0.028485</td>\n",
              "      <td>0.056702</td>\n",
              "      <td>0.040122</td>\n",
              "      <td>0.019306</td>\n",
              "      <td>...</td>\n",
              "      <td>-0.137044</td>\n",
              "      <td>-0.281535</td>\n",
              "      <td>-0.454771</td>\n",
              "      <td>0.031833</td>\n",
              "      <td>-0.040634</td>\n",
              "      <td>-0.074327</td>\n",
              "      <td>-0.037230</td>\n",
              "      <td>-0.088964</td>\n",
              "      <td>-0.005998</td>\n",
              "      <td>0.076609</td>\n",
              "    </tr>\n",
              "    <tr>\n",
              "      <th>DMC</th>\n",
              "      <td>0.382619</td>\n",
              "      <td>1.000000</td>\n",
              "      <td>0.682192</td>\n",
              "      <td>0.305128</td>\n",
              "      <td>0.469594</td>\n",
              "      <td>0.073795</td>\n",
              "      <td>-0.105342</td>\n",
              "      <td>0.074790</td>\n",
              "      <td>0.072994</td>\n",
              "      <td>-0.012010</td>\n",
              "      <td>...</td>\n",
              "      <td>-0.176301</td>\n",
              "      <td>-0.317899</td>\n",
              "      <td>-0.105647</td>\n",
              "      <td>-0.001946</td>\n",
              "      <td>-0.050403</td>\n",
              "      <td>-0.407404</td>\n",
              "      <td>-0.081980</td>\n",
              "      <td>-0.074218</td>\n",
              "      <td>-0.187632</td>\n",
              "      <td>0.110907</td>\n",
              "    </tr>\n",
              "    <tr>\n",
              "      <th>DC</th>\n",
              "      <td>0.330512</td>\n",
              "      <td>0.682192</td>\n",
              "      <td>1.000000</td>\n",
              "      <td>0.229154</td>\n",
              "      <td>0.496208</td>\n",
              "      <td>-0.039192</td>\n",
              "      <td>-0.203466</td>\n",
              "      <td>0.035861</td>\n",
              "      <td>0.049383</td>\n",
              "      <td>-0.004220</td>\n",
              "      <td>...</td>\n",
              "      <td>-0.105642</td>\n",
              "      <td>-0.399277</td>\n",
              "      <td>-0.115064</td>\n",
              "      <td>-0.100887</td>\n",
              "      <td>-0.186183</td>\n",
              "      <td>-0.650427</td>\n",
              "      <td>-0.114209</td>\n",
              "      <td>-0.078380</td>\n",
              "      <td>0.093279</td>\n",
              "      <td>0.531857</td>\n",
              "    </tr>\n",
              "    <tr>\n",
              "      <th>ISI</th>\n",
              "      <td>0.531805</td>\n",
              "      <td>0.305128</td>\n",
              "      <td>0.229154</td>\n",
              "      <td>1.000000</td>\n",
              "      <td>0.394287</td>\n",
              "      <td>-0.132517</td>\n",
              "      <td>0.106826</td>\n",
              "      <td>0.067668</td>\n",
              "      <td>0.008258</td>\n",
              "      <td>0.046695</td>\n",
              "      <td>...</td>\n",
              "      <td>-0.162322</td>\n",
              "      <td>-0.249777</td>\n",
              "      <td>-0.103588</td>\n",
              "      <td>0.020982</td>\n",
              "      <td>0.111516</td>\n",
              "      <td>-0.143520</td>\n",
              "      <td>-0.060493</td>\n",
              "      <td>-0.076559</td>\n",
              "      <td>-0.071154</td>\n",
              "      <td>-0.068877</td>\n",
              "    </tr>\n",
              "    <tr>\n",
              "      <th>temp</th>\n",
              "      <td>0.431532</td>\n",
              "      <td>0.469594</td>\n",
              "      <td>0.496208</td>\n",
              "      <td>0.394287</td>\n",
              "      <td>1.000000</td>\n",
              "      <td>-0.527390</td>\n",
              "      <td>-0.227116</td>\n",
              "      <td>0.069491</td>\n",
              "      <td>0.097844</td>\n",
              "      <td>-0.071949</td>\n",
              "      <td>...</td>\n",
              "      <td>-0.329648</td>\n",
              "      <td>-0.320015</td>\n",
              "      <td>-0.146520</td>\n",
              "      <td>0.142588</td>\n",
              "      <td>0.051015</td>\n",
              "      <td>-0.341797</td>\n",
              "      <td>-0.045540</td>\n",
              "      <td>-0.053798</td>\n",
              "      <td>-0.053513</td>\n",
              "      <td>0.088006</td>\n",
              "    </tr>\n",
              "    <tr>\n",
              "      <th>RH</th>\n",
              "      <td>-0.300995</td>\n",
              "      <td>0.073795</td>\n",
              "      <td>-0.039192</td>\n",
              "      <td>-0.132517</td>\n",
              "      <td>-0.527390</td>\n",
              "      <td>1.000000</td>\n",
              "      <td>0.069410</td>\n",
              "      <td>0.099751</td>\n",
              "      <td>-0.075519</td>\n",
              "      <td>0.064506</td>\n",
              "      <td>...</td>\n",
              "      <td>-0.047714</td>\n",
              "      <td>0.140430</td>\n",
              "      <td>0.170923</td>\n",
              "      <td>0.013185</td>\n",
              "      <td>0.009382</td>\n",
              "      <td>-0.089836</td>\n",
              "      <td>0.086822</td>\n",
              "      <td>-0.035885</td>\n",
              "      <td>-0.072334</td>\n",
              "      <td>-0.062596</td>\n",
              "    </tr>\n",
              "    <tr>\n",
              "      <th>wind</th>\n",
              "      <td>-0.028485</td>\n",
              "      <td>-0.105342</td>\n",
              "      <td>-0.203466</td>\n",
              "      <td>0.106826</td>\n",
              "      <td>-0.227116</td>\n",
              "      <td>0.069410</td>\n",
              "      <td>1.000000</td>\n",
              "      <td>0.061119</td>\n",
              "      <td>0.012317</td>\n",
              "      <td>0.118090</td>\n",
              "      <td>...</td>\n",
              "      <td>0.269702</td>\n",
              "      <td>-0.029431</td>\n",
              "      <td>-0.070245</td>\n",
              "      <td>-0.040645</td>\n",
              "      <td>0.012124</td>\n",
              "      <td>0.181433</td>\n",
              "      <td>0.015054</td>\n",
              "      <td>0.011864</td>\n",
              "      <td>-0.053850</td>\n",
              "      <td>-0.181476</td>\n",
              "    </tr>\n",
              "    <tr>\n",
              "      <th>rain</th>\n",
              "      <td>0.056702</td>\n",
              "      <td>0.074790</td>\n",
              "      <td>0.035861</td>\n",
              "      <td>0.067668</td>\n",
              "      <td>0.069491</td>\n",
              "      <td>0.099751</td>\n",
              "      <td>0.061119</td>\n",
              "      <td>1.000000</td>\n",
              "      <td>-0.007366</td>\n",
              "      <td>-0.004261</td>\n",
              "      <td>...</td>\n",
              "      <td>-0.009752</td>\n",
              "      <td>-0.014698</td>\n",
              "      <td>-0.004566</td>\n",
              "      <td>-0.013390</td>\n",
              "      <td>-0.013510</td>\n",
              "      <td>-0.020744</td>\n",
              "      <td>-0.004566</td>\n",
              "      <td>-0.003225</td>\n",
              "      <td>-0.012665</td>\n",
              "      <td>-0.051733</td>\n",
              "    </tr>\n",
              "    <tr>\n",
              "      <th>area</th>\n",
              "      <td>0.040122</td>\n",
              "      <td>0.072994</td>\n",
              "      <td>0.049383</td>\n",
              "      <td>0.008258</td>\n",
              "      <td>0.097844</td>\n",
              "      <td>-0.075519</td>\n",
              "      <td>0.012317</td>\n",
              "      <td>-0.007366</td>\n",
              "      <td>1.000000</td>\n",
              "      <td>-0.052911</td>\n",
              "      <td>...</td>\n",
              "      <td>0.001010</td>\n",
              "      <td>-0.020732</td>\n",
              "      <td>-0.012589</td>\n",
              "      <td>0.006149</td>\n",
              "      <td>-0.020314</td>\n",
              "      <td>-0.045596</td>\n",
              "      <td>0.006264</td>\n",
              "      <td>-0.008893</td>\n",
              "      <td>-0.016878</td>\n",
              "      <td>0.056573</td>\n",
              "    </tr>\n",
              "    <tr>\n",
              "      <th>dayfri</th>\n",
              "      <td>0.019306</td>\n",
              "      <td>-0.012010</td>\n",
              "      <td>-0.004220</td>\n",
              "      <td>0.046695</td>\n",
              "      <td>-0.071949</td>\n",
              "      <td>0.064506</td>\n",
              "      <td>0.118090</td>\n",
              "      <td>-0.004261</td>\n",
              "      <td>-0.052911</td>\n",
              "      <td>1.000000</td>\n",
              "      <td>...</td>\n",
              "      <td>-0.019140</td>\n",
              "      <td>0.046323</td>\n",
              "      <td>-0.027643</td>\n",
              "      <td>-0.048969</td>\n",
              "      <td>0.006000</td>\n",
              "      <td>0.036205</td>\n",
              "      <td>0.056423</td>\n",
              "      <td>-0.019527</td>\n",
              "      <td>-0.045585</td>\n",
              "      <td>0.107671</td>\n",
              "    </tr>\n",
              "    <tr>\n",
              "      <th>daymon</th>\n",
              "      <td>-0.059396</td>\n",
              "      <td>-0.107921</td>\n",
              "      <td>-0.052993</td>\n",
              "      <td>-0.158601</td>\n",
              "      <td>-0.136529</td>\n",
              "      <td>0.009376</td>\n",
              "      <td>-0.063881</td>\n",
              "      <td>-0.029945</td>\n",
              "      <td>-0.021206</td>\n",
              "      <td>-0.181293</td>\n",
              "      <td>...</td>\n",
              "      <td>0.114519</td>\n",
              "      <td>0.003933</td>\n",
              "      <td>-0.025470</td>\n",
              "      <td>-0.013300</td>\n",
              "      <td>0.017553</td>\n",
              "      <td>0.077125</td>\n",
              "      <td>-0.025470</td>\n",
              "      <td>-0.017992</td>\n",
              "      <td>0.060975</td>\n",
              "      <td>0.039632</td>\n",
              "    </tr>\n",
              "    <tr>\n",
              "      <th>daysat</th>\n",
              "      <td>-0.019637</td>\n",
              "      <td>-0.003653</td>\n",
              "      <td>-0.035189</td>\n",
              "      <td>-0.038585</td>\n",
              "      <td>0.034899</td>\n",
              "      <td>-0.023869</td>\n",
              "      <td>-0.063799</td>\n",
              "      <td>-0.032271</td>\n",
              "      <td>0.087868</td>\n",
              "      <td>-0.195372</td>\n",
              "      <td>...</td>\n",
              "      <td>-0.058625</td>\n",
              "      <td>0.020406</td>\n",
              "      <td>0.057019</td>\n",
              "      <td>0.060945</td>\n",
              "      <td>-0.022408</td>\n",
              "      <td>0.021024</td>\n",
              "      <td>0.057019</td>\n",
              "      <td>-0.019390</td>\n",
              "      <td>0.017584</td>\n",
              "      <td>-0.032783</td>\n",
              "    </tr>\n",
              "    <tr>\n",
              "      <th>daysun</th>\n",
              "      <td>-0.089517</td>\n",
              "      <td>0.025355</td>\n",
              "      <td>-0.001431</td>\n",
              "      <td>-0.003243</td>\n",
              "      <td>0.014403</td>\n",
              "      <td>0.136220</td>\n",
              "      <td>0.027981</td>\n",
              "      <td>-0.017872</td>\n",
              "      <td>-0.020463</td>\n",
              "      <td>-0.210462</td>\n",
              "      <td>...</td>\n",
              "      <td>-0.024966</td>\n",
              "      <td>0.008416</td>\n",
              "      <td>0.050887</td>\n",
              "      <td>-0.018241</td>\n",
              "      <td>0.024540</td>\n",
              "      <td>-0.047726</td>\n",
              "      <td>-0.029568</td>\n",
              "      <td>-0.020887</td>\n",
              "      <td>0.007252</td>\n",
              "      <td>-0.048817</td>\n",
              "    </tr>\n",
              "    <tr>\n",
              "      <th>daythu</th>\n",
              "      <td>0.071730</td>\n",
              "      <td>0.087672</td>\n",
              "      <td>0.051859</td>\n",
              "      <td>-0.022406</td>\n",
              "      <td>0.051432</td>\n",
              "      <td>-0.123061</td>\n",
              "      <td>-0.062553</td>\n",
              "      <td>-0.026798</td>\n",
              "      <td>0.020121</td>\n",
              "      <td>-0.162237</td>\n",
              "      <td>...</td>\n",
              "      <td>-0.002838</td>\n",
              "      <td>-0.042278</td>\n",
              "      <td>-0.022793</td>\n",
              "      <td>-0.019300</td>\n",
              "      <td>-0.000195</td>\n",
              "      <td>-0.026885</td>\n",
              "      <td>-0.022793</td>\n",
              "      <td>-0.016101</td>\n",
              "      <td>-0.063223</td>\n",
              "      <td>0.008984</td>\n",
              "    </tr>\n",
              "    <tr>\n",
              "      <th>daytue</th>\n",
              "      <td>0.011225</td>\n",
              "      <td>0.000016</td>\n",
              "      <td>0.028368</td>\n",
              "      <td>0.068610</td>\n",
              "      <td>0.035630</td>\n",
              "      <td>-0.014211</td>\n",
              "      <td>0.053396</td>\n",
              "      <td>0.139311</td>\n",
              "      <td>-0.001333</td>\n",
              "      <td>-0.166728</td>\n",
              "      <td>...</td>\n",
              "      <td>-0.005125</td>\n",
              "      <td>-0.014491</td>\n",
              "      <td>-0.023424</td>\n",
              "      <td>0.049688</td>\n",
              "      <td>-0.069308</td>\n",
              "      <td>-0.032351</td>\n",
              "      <td>-0.023424</td>\n",
              "      <td>0.117121</td>\n",
              "      <td>0.005008</td>\n",
              "      <td>-0.028570</td>\n",
              "    </tr>\n",
              "    <tr>\n",
              "      <th>daywed</th>\n",
              "      <td>0.093908</td>\n",
              "      <td>0.017939</td>\n",
              "      <td>0.024803</td>\n",
              "      <td>0.125415</td>\n",
              "      <td>0.090580</td>\n",
              "      <td>-0.087508</td>\n",
              "      <td>-0.019965</td>\n",
              "      <td>-0.020744</td>\n",
              "      <td>-0.011452</td>\n",
              "      <td>-0.151487</td>\n",
              "      <td>...</td>\n",
              "      <td>0.002899</td>\n",
              "      <td>-0.035713</td>\n",
              "      <td>-0.021282</td>\n",
              "      <td>-0.008985</td>\n",
              "      <td>0.043422</td>\n",
              "      <td>-0.033917</td>\n",
              "      <td>-0.021282</td>\n",
              "      <td>-0.015034</td>\n",
              "      <td>0.016325</td>\n",
              "      <td>-0.053222</td>\n",
              "    </tr>\n",
              "    <tr>\n",
              "      <th>monthapr</th>\n",
              "      <td>-0.117199</td>\n",
              "      <td>-0.197543</td>\n",
              "      <td>-0.268211</td>\n",
              "      <td>-0.106478</td>\n",
              "      <td>-0.157051</td>\n",
              "      <td>0.021235</td>\n",
              "      <td>0.048266</td>\n",
              "      <td>-0.009752</td>\n",
              "      <td>-0.008280</td>\n",
              "      <td>-0.019140</td>\n",
              "      <td>...</td>\n",
              "      <td>-0.017717</td>\n",
              "      <td>-0.026701</td>\n",
              "      <td>-0.008295</td>\n",
              "      <td>-0.034190</td>\n",
              "      <td>-0.024543</td>\n",
              "      <td>-0.045456</td>\n",
              "      <td>-0.008295</td>\n",
              "      <td>-0.005860</td>\n",
              "      <td>-0.023008</td>\n",
              "      <td>-0.093982</td>\n",
              "    </tr>\n",
              "    <tr>\n",
              "      <th>monthaug</th>\n",
              "      <td>0.228103</td>\n",
              "      <td>0.497928</td>\n",
              "      <td>0.279361</td>\n",
              "      <td>0.334639</td>\n",
              "      <td>0.351404</td>\n",
              "      <td>0.054761</td>\n",
              "      <td>0.028577</td>\n",
              "      <td>0.093101</td>\n",
              "      <td>-0.004187</td>\n",
              "      <td>-0.100837</td>\n",
              "      <td>...</td>\n",
              "      <td>-0.098941</td>\n",
              "      <td>-0.149116</td>\n",
              "      <td>-0.046323</td>\n",
              "      <td>-0.190937</td>\n",
              "      <td>-0.137065</td>\n",
              "      <td>-0.253859</td>\n",
              "      <td>-0.046323</td>\n",
              "      <td>-0.032724</td>\n",
              "      <td>-0.128493</td>\n",
              "      <td>-0.524858</td>\n",
              "    </tr>\n",
              "    <tr>\n",
              "      <th>monthdec</th>\n",
              "      <td>-0.137044</td>\n",
              "      <td>-0.176301</td>\n",
              "      <td>-0.105642</td>\n",
              "      <td>-0.162322</td>\n",
              "      <td>-0.329648</td>\n",
              "      <td>-0.047714</td>\n",
              "      <td>0.269702</td>\n",
              "      <td>-0.009752</td>\n",
              "      <td>0.001010</td>\n",
              "      <td>-0.019140</td>\n",
              "      <td>...</td>\n",
              "      <td>1.000000</td>\n",
              "      <td>-0.026701</td>\n",
              "      <td>-0.008295</td>\n",
              "      <td>-0.034190</td>\n",
              "      <td>-0.024543</td>\n",
              "      <td>-0.045456</td>\n",
              "      <td>-0.008295</td>\n",
              "      <td>-0.005860</td>\n",
              "      <td>-0.023008</td>\n",
              "      <td>-0.093982</td>\n",
              "    </tr>\n",
              "    <tr>\n",
              "      <th>monthfeb</th>\n",
              "      <td>-0.281535</td>\n",
              "      <td>-0.317899</td>\n",
              "      <td>-0.399277</td>\n",
              "      <td>-0.249777</td>\n",
              "      <td>-0.320015</td>\n",
              "      <td>0.140430</td>\n",
              "      <td>-0.029431</td>\n",
              "      <td>-0.014698</td>\n",
              "      <td>-0.020732</td>\n",
              "      <td>0.046323</td>\n",
              "      <td>...</td>\n",
              "      <td>-0.026701</td>\n",
              "      <td>1.000000</td>\n",
              "      <td>-0.012501</td>\n",
              "      <td>-0.051528</td>\n",
              "      <td>-0.036989</td>\n",
              "      <td>-0.068508</td>\n",
              "      <td>-0.012501</td>\n",
              "      <td>-0.008831</td>\n",
              "      <td>-0.034676</td>\n",
              "      <td>-0.141642</td>\n",
              "    </tr>\n",
              "    <tr>\n",
              "      <th>monthjan</th>\n",
              "      <td>-0.454771</td>\n",
              "      <td>-0.105647</td>\n",
              "      <td>-0.115064</td>\n",
              "      <td>-0.103588</td>\n",
              "      <td>-0.146520</td>\n",
              "      <td>0.170923</td>\n",
              "      <td>-0.070245</td>\n",
              "      <td>-0.004566</td>\n",
              "      <td>-0.012589</td>\n",
              "      <td>-0.027643</td>\n",
              "      <td>...</td>\n",
              "      <td>-0.008295</td>\n",
              "      <td>-0.012501</td>\n",
              "      <td>1.000000</td>\n",
              "      <td>-0.016007</td>\n",
              "      <td>-0.011491</td>\n",
              "      <td>-0.021282</td>\n",
              "      <td>-0.003883</td>\n",
              "      <td>-0.002743</td>\n",
              "      <td>-0.010772</td>\n",
              "      <td>-0.044001</td>\n",
              "    </tr>\n",
              "    <tr>\n",
              "      <th>monthjul</th>\n",
              "      <td>0.031833</td>\n",
              "      <td>-0.001946</td>\n",
              "      <td>-0.100887</td>\n",
              "      <td>0.020982</td>\n",
              "      <td>0.142588</td>\n",
              "      <td>0.013185</td>\n",
              "      <td>-0.040645</td>\n",
              "      <td>-0.013390</td>\n",
              "      <td>0.006149</td>\n",
              "      <td>-0.048969</td>\n",
              "      <td>...</td>\n",
              "      <td>-0.034190</td>\n",
              "      <td>-0.051528</td>\n",
              "      <td>-0.016007</td>\n",
              "      <td>1.000000</td>\n",
              "      <td>-0.047363</td>\n",
              "      <td>-0.087722</td>\n",
              "      <td>-0.016007</td>\n",
              "      <td>-0.011308</td>\n",
              "      <td>-0.044402</td>\n",
              "      <td>-0.181367</td>\n",
              "    </tr>\n",
              "    <tr>\n",
              "      <th>monthjun</th>\n",
              "      <td>-0.040634</td>\n",
              "      <td>-0.050403</td>\n",
              "      <td>-0.186183</td>\n",
              "      <td>0.111516</td>\n",
              "      <td>0.051015</td>\n",
              "      <td>0.009382</td>\n",
              "      <td>0.012124</td>\n",
              "      <td>-0.013510</td>\n",
              "      <td>-0.020314</td>\n",
              "      <td>0.006000</td>\n",
              "      <td>...</td>\n",
              "      <td>-0.024543</td>\n",
              "      <td>-0.036989</td>\n",
              "      <td>-0.011491</td>\n",
              "      <td>-0.047363</td>\n",
              "      <td>1.000000</td>\n",
              "      <td>-0.062972</td>\n",
              "      <td>-0.011491</td>\n",
              "      <td>-0.008117</td>\n",
              "      <td>-0.031874</td>\n",
              "      <td>-0.130195</td>\n",
              "    </tr>\n",
              "    <tr>\n",
              "      <th>monthmar</th>\n",
              "      <td>-0.074327</td>\n",
              "      <td>-0.407404</td>\n",
              "      <td>-0.650427</td>\n",
              "      <td>-0.143520</td>\n",
              "      <td>-0.341797</td>\n",
              "      <td>-0.089836</td>\n",
              "      <td>0.181433</td>\n",
              "      <td>-0.020744</td>\n",
              "      <td>-0.045596</td>\n",
              "      <td>0.036205</td>\n",
              "      <td>...</td>\n",
              "      <td>-0.045456</td>\n",
              "      <td>-0.068508</td>\n",
              "      <td>-0.021282</td>\n",
              "      <td>-0.087722</td>\n",
              "      <td>-0.062972</td>\n",
              "      <td>1.000000</td>\n",
              "      <td>-0.021282</td>\n",
              "      <td>-0.015034</td>\n",
              "      <td>-0.059034</td>\n",
              "      <td>-0.241135</td>\n",
              "    </tr>\n",
              "    <tr>\n",
              "      <th>monthmay</th>\n",
              "      <td>-0.037230</td>\n",
              "      <td>-0.081980</td>\n",
              "      <td>-0.114209</td>\n",
              "      <td>-0.060493</td>\n",
              "      <td>-0.045540</td>\n",
              "      <td>0.086822</td>\n",
              "      <td>0.015054</td>\n",
              "      <td>-0.004566</td>\n",
              "      <td>0.006264</td>\n",
              "      <td>0.056423</td>\n",
              "      <td>...</td>\n",
              "      <td>-0.008295</td>\n",
              "      <td>-0.012501</td>\n",
              "      <td>-0.003883</td>\n",
              "      <td>-0.016007</td>\n",
              "      <td>-0.011491</td>\n",
              "      <td>-0.021282</td>\n",
              "      <td>1.000000</td>\n",
              "      <td>-0.002743</td>\n",
              "      <td>-0.010772</td>\n",
              "      <td>-0.044001</td>\n",
              "    </tr>\n",
              "    <tr>\n",
              "      <th>monthnov</th>\n",
              "      <td>-0.088964</td>\n",
              "      <td>-0.074218</td>\n",
              "      <td>-0.078380</td>\n",
              "      <td>-0.076559</td>\n",
              "      <td>-0.053798</td>\n",
              "      <td>-0.035885</td>\n",
              "      <td>0.011864</td>\n",
              "      <td>-0.003225</td>\n",
              "      <td>-0.008893</td>\n",
              "      <td>-0.019527</td>\n",
              "      <td>...</td>\n",
              "      <td>-0.005860</td>\n",
              "      <td>-0.008831</td>\n",
              "      <td>-0.002743</td>\n",
              "      <td>-0.011308</td>\n",
              "      <td>-0.008117</td>\n",
              "      <td>-0.015034</td>\n",
              "      <td>-0.002743</td>\n",
              "      <td>1.000000</td>\n",
              "      <td>-0.007610</td>\n",
              "      <td>-0.031083</td>\n",
              "    </tr>\n",
              "    <tr>\n",
              "      <th>monthoct</th>\n",
              "      <td>-0.005998</td>\n",
              "      <td>-0.187632</td>\n",
              "      <td>0.093279</td>\n",
              "      <td>-0.071154</td>\n",
              "      <td>-0.053513</td>\n",
              "      <td>-0.072334</td>\n",
              "      <td>-0.053850</td>\n",
              "      <td>-0.012665</td>\n",
              "      <td>-0.016878</td>\n",
              "      <td>-0.045585</td>\n",
              "      <td>...</td>\n",
              "      <td>-0.023008</td>\n",
              "      <td>-0.034676</td>\n",
              "      <td>-0.010772</td>\n",
              "      <td>-0.044402</td>\n",
              "      <td>-0.031874</td>\n",
              "      <td>-0.059034</td>\n",
              "      <td>-0.010772</td>\n",
              "      <td>-0.007610</td>\n",
              "      <td>1.000000</td>\n",
              "      <td>-0.122053</td>\n",
              "    </tr>\n",
              "    <tr>\n",
              "      <th>monthsep</th>\n",
              "      <td>0.076609</td>\n",
              "      <td>0.110907</td>\n",
              "      <td>0.531857</td>\n",
              "      <td>-0.068877</td>\n",
              "      <td>0.088006</td>\n",
              "      <td>-0.062596</td>\n",
              "      <td>-0.181476</td>\n",
              "      <td>-0.051733</td>\n",
              "      <td>0.056573</td>\n",
              "      <td>0.107671</td>\n",
              "      <td>...</td>\n",
              "      <td>-0.093982</td>\n",
              "      <td>-0.141642</td>\n",
              "      <td>-0.044001</td>\n",
              "      <td>-0.181367</td>\n",
              "      <td>-0.130195</td>\n",
              "      <td>-0.241135</td>\n",
              "      <td>-0.044001</td>\n",
              "      <td>-0.031083</td>\n",
              "      <td>-0.122053</td>\n",
              "      <td>1.000000</td>\n",
              "    </tr>\n",
              "  </tbody>\n",
              "</table>\n",
              "<p>28 rows × 28 columns</p>\n",
              "</div>\n",
              "      <button class=\"colab-df-convert\" onclick=\"convertToInteractive('df-af1d787f-16e9-4324-acbb-ba0c26e0cd8a')\"\n",
              "              title=\"Convert this dataframe to an interactive table.\"\n",
              "              style=\"display:none;\">\n",
              "        \n",
              "  <svg xmlns=\"http://www.w3.org/2000/svg\" height=\"24px\"viewBox=\"0 0 24 24\"\n",
              "       width=\"24px\">\n",
              "    <path d=\"M0 0h24v24H0V0z\" fill=\"none\"/>\n",
              "    <path d=\"M18.56 5.44l.94 2.06.94-2.06 2.06-.94-2.06-.94-.94-2.06-.94 2.06-2.06.94zm-11 1L8.5 8.5l.94-2.06 2.06-.94-2.06-.94L8.5 2.5l-.94 2.06-2.06.94zm10 10l.94 2.06.94-2.06 2.06-.94-2.06-.94-.94-2.06-.94 2.06-2.06.94z\"/><path d=\"M17.41 7.96l-1.37-1.37c-.4-.4-.92-.59-1.43-.59-.52 0-1.04.2-1.43.59L10.3 9.45l-7.72 7.72c-.78.78-.78 2.05 0 2.83L4 21.41c.39.39.9.59 1.41.59.51 0 1.02-.2 1.41-.59l7.78-7.78 2.81-2.81c.8-.78.8-2.07 0-2.86zM5.41 20L4 18.59l7.72-7.72 1.47 1.35L5.41 20z\"/>\n",
              "  </svg>\n",
              "      </button>\n",
              "      \n",
              "  <style>\n",
              "    .colab-df-container {\n",
              "      display:flex;\n",
              "      flex-wrap:wrap;\n",
              "      gap: 12px;\n",
              "    }\n",
              "\n",
              "    .colab-df-convert {\n",
              "      background-color: #E8F0FE;\n",
              "      border: none;\n",
              "      border-radius: 50%;\n",
              "      cursor: pointer;\n",
              "      display: none;\n",
              "      fill: #1967D2;\n",
              "      height: 32px;\n",
              "      padding: 0 0 0 0;\n",
              "      width: 32px;\n",
              "    }\n",
              "\n",
              "    .colab-df-convert:hover {\n",
              "      background-color: #E2EBFA;\n",
              "      box-shadow: 0px 1px 2px rgba(60, 64, 67, 0.3), 0px 1px 3px 1px rgba(60, 64, 67, 0.15);\n",
              "      fill: #174EA6;\n",
              "    }\n",
              "\n",
              "    [theme=dark] .colab-df-convert {\n",
              "      background-color: #3B4455;\n",
              "      fill: #D2E3FC;\n",
              "    }\n",
              "\n",
              "    [theme=dark] .colab-df-convert:hover {\n",
              "      background-color: #434B5C;\n",
              "      box-shadow: 0px 1px 3px 1px rgba(0, 0, 0, 0.15);\n",
              "      filter: drop-shadow(0px 1px 2px rgba(0, 0, 0, 0.3));\n",
              "      fill: #FFFFFF;\n",
              "    }\n",
              "  </style>\n",
              "\n",
              "      <script>\n",
              "        const buttonEl =\n",
              "          document.querySelector('#df-af1d787f-16e9-4324-acbb-ba0c26e0cd8a button.colab-df-convert');\n",
              "        buttonEl.style.display =\n",
              "          google.colab.kernel.accessAllowed ? 'block' : 'none';\n",
              "\n",
              "        async function convertToInteractive(key) {\n",
              "          const element = document.querySelector('#df-af1d787f-16e9-4324-acbb-ba0c26e0cd8a');\n",
              "          const dataTable =\n",
              "            await google.colab.kernel.invokeFunction('convertToInteractive',\n",
              "                                                     [key], {});\n",
              "          if (!dataTable) return;\n",
              "\n",
              "          const docLinkHtml = 'Like what you see? Visit the ' +\n",
              "            '<a target=\"_blank\" href=https://colab.research.google.com/notebooks/data_table.ipynb>data table notebook</a>'\n",
              "            + ' to learn more about interactive tables.';\n",
              "          element.innerHTML = '';\n",
              "          dataTable['output_type'] = 'display_data';\n",
              "          await google.colab.output.renderOutput(dataTable, element);\n",
              "          const docLink = document.createElement('div');\n",
              "          docLink.innerHTML = docLinkHtml;\n",
              "          element.appendChild(docLink);\n",
              "        }\n",
              "      </script>\n",
              "    </div>\n",
              "  </div>\n",
              "  "
            ]
          },
          "metadata": {},
          "execution_count": 7
        }
      ]
    },
    {
      "cell_type": "code",
      "source": [
        "data.columns"
      ],
      "metadata": {
        "colab": {
          "base_uri": "https://localhost:8080/"
        },
        "id": "QeEoSBNWGql_",
        "outputId": "270e254c-e5e3-4927-8be5-d6df060d240d"
      },
      "execution_count": 8,
      "outputs": [
        {
          "output_type": "execute_result",
          "data": {
            "text/plain": [
              "Index(['month', 'day', 'FFMC', 'DMC', 'DC', 'ISI', 'temp', 'RH', 'wind',\n",
              "       'rain', 'area', 'dayfri', 'daymon', 'daysat', 'daysun', 'daythu',\n",
              "       'daytue', 'daywed', 'monthapr', 'monthaug', 'monthdec', 'monthfeb',\n",
              "       'monthjan', 'monthjul', 'monthjun', 'monthmar', 'monthmay', 'monthnov',\n",
              "       'monthoct', 'monthsep', 'size_category'],\n",
              "      dtype='object')"
            ]
          },
          "metadata": {},
          "execution_count": 8
        }
      ]
    },
    {
      "cell_type": "code",
      "source": [
        "data.isnull(). sum()"
      ],
      "metadata": {
        "colab": {
          "base_uri": "https://localhost:8080/"
        },
        "id": "YDIR9dfWG6xy",
        "outputId": "1ca0ca92-215a-4579-c227-9e4bbc8d59d9"
      },
      "execution_count": 9,
      "outputs": [
        {
          "output_type": "execute_result",
          "data": {
            "text/plain": [
              "month            0\n",
              "day              0\n",
              "FFMC             0\n",
              "DMC              0\n",
              "DC               0\n",
              "ISI              0\n",
              "temp             0\n",
              "RH               0\n",
              "wind             0\n",
              "rain             0\n",
              "area             0\n",
              "dayfri           0\n",
              "daymon           0\n",
              "daysat           0\n",
              "daysun           0\n",
              "daythu           0\n",
              "daytue           0\n",
              "daywed           0\n",
              "monthapr         0\n",
              "monthaug         0\n",
              "monthdec         0\n",
              "monthfeb         0\n",
              "monthjan         0\n",
              "monthjul         0\n",
              "monthjun         0\n",
              "monthmar         0\n",
              "monthmay         0\n",
              "monthnov         0\n",
              "monthoct         0\n",
              "monthsep         0\n",
              "size_category    0\n",
              "dtype: int64"
            ]
          },
          "metadata": {},
          "execution_count": 9
        }
      ]
    },
    {
      "cell_type": "code",
      "source": [
        "%matplotlib inline\n",
        "for i in data:\n",
        "  plt.hist(data[i])\n",
        "  plt.title(i)\n",
        "  plt.show()\n"
      ],
      "metadata": {
        "colab": {
          "base_uri": "https://localhost:8080/",
          "height": 1000
        },
        "id": "CBAy-qX0KAmY",
        "outputId": "a1f4cbe1-618e-4941-a201-7afafcaa9942"
      },
      "execution_count": 10,
      "outputs": [
        {
          "output_type": "display_data",
          "data": {
            "text/plain": [
              "<Figure size 432x288 with 1 Axes>"
            ],
            "image/png": "[encoded data removed]"
          },
          "metadata": {
            "needs_background": "light"
          }
        },
        {
          "output_type": "display_data",
          "data": {
            "text/plain": [
              "<Figure size 432x288 with 1 Axes>"
            ],
            "image/png": "[encoded data removed]"
          },
          "metadata": {
            "needs_background": "light"
          }
        },
        {
          "output_type": "display_data",
          "data": {
            "text/plain": [
              "<Figure size 432x288 with 1 Axes>"
            ],
            "image/png": "[encoded data removed]"
          },
          "metadata": {
            "needs_background": "light"
          }
        },
        {
          "output_type": "display_data",
          "data": {
            "text/plain": [
              "<Figure size 432x288 with 1 Axes>"
            ],
            "image/png": "[encoded data removed]"
          },
          "metadata": {
            "needs_background": "light"
          }
        },
        {
          "output_type": "display_data",
          "data": {
            "text/plain": [
              "<Figure size 432x288 with 1 Axes>"
            ],
            "image/png": "[encoded data removed]"
          },
          "metadata": {
            "needs_background": "light"
          }
        },
        {
          "output_type": "display_data",
          "data": {
            "text/plain": [
              "<Figure size 432x288 with 1 Axes>"
            ],
            "image/png": "[encoded data removed]"
          },
          "metadata": {
            "needs_background": "light"
          }
        },
        {
          "output_type": "display_data",
          "data": {
            "text/plain": [
              "<Figure size 432x288 with 1 Axes>"
            ],
            "image/png": "[encoded data removed]"
          },
          "metadata": {
            "needs_background": "light"
          }
        },
        {
          "output_type": "display_data",
          "data": {
            "text/plain": [
              "<Figure size 432x288 with 1 Axes>"
            ],
            "image/png": "[encoded data removed]"
          },
          "metadata": {
            "needs_background": "light"
          }
        },
        {
          "output_type": "display_data",
          "data": {
            "text/plain": [
              "<Figure size 432x288 with 1 Axes>"
            ],
            "image/png": "[encoded data removed]"
          },
          "metadata": {
            "needs_background": "light"
          }
        },
        {
          "output_type": "display_data",
          "data": {
            "text/plain": [
              "<Figure size 432x288 with 1 Axes>"
            ],
            "image/png": "[encoded data removed]"
          },
          "metadata": {
            "needs_background": "light"
          }
        },
        {
          "output_type": "display_data",
          "data": {
            "text/plain": [
              "<Figure size 432x288 with 1 Axes>"
            ],
            "image/png": "[encoded data removed]"
          },
          "metadata": {
            "needs_background": "light"
          }
        },
        {
          "output_type": "display_data",
          "data": {
            "text/plain": [
              "<Figure size 432x288 with 1 Axes>"
            ],
            "image/png": "[encoded data removed]"
          },
          "metadata": {
            "needs_background": "light"
          }
        },
        {
          "output_type": "display_data",
          "data": {
            "text/plain": [
              "<Figure size 432x288 with 1 Axes>"
            ],
            "image/png": "[encoded data removed]"
          },
          "metadata": {
            "needs_background": "light"
          }
        },
        {
          "output_type": "display_data",
          "data": {
            "text/plain": [
              "<Figure size 432x288 with 1 Axes>"
            ],
            "image/png": "[encoded data removed]"
          },
          "metadata": {
            "needs_background": "light"
          }
        },
        {
          "output_type": "display_data",
          "data": {
            "text/plain": [
              "<Figure size 432x288 with 1 Axes>"
            ],
            "image/png": "[encoded data removed]"
          },
          "metadata": {
            "needs_background": "light"
          }
        },
        {
          "output_type": "display_data",
          "data": {
            "text/plain": [
              "<Figure size 432x288 with 1 Axes>"
            ],
            "image/png": "[encoded data removed]"
          },
          "metadata": {
            "needs_background": "light"
          }
        },
        {
          "output_type": "display_data",
          "data": {
            "text/plain": [
              "<Figure size 432x288 with 1 Axes>"
            ],
            "image/png": "[encoded data removed]"
          },
          "metadata": {
            "needs_background": "light"
          }
        },
        {
          "output_type": "display_data",
          "data": {
            "text/plain": [
              "<Figure size 432x288 with 1 Axes>"
            ],
            "image/png": "[encoded data removed]"
          },
          "metadata": {
            "needs_background": "light"
          }
        },
        {
          "output_type": "display_data",
          "data": {
            "text/plain": [
              "<Figure size 432x288 with 1 Axes>"
            ],
            "image/png": "[encoded data removed]"
          },
          "metadata": {
            "needs_background": "light"
          }
        },
        {
          "output_type": "display_data",
          "data": {
            "text/plain": [
              "<Figure size 432x288 with 1 Axes>"
            ],
            "image/png": "[encoded data removed]"
          },
          "metadata": {
            "needs_background": "light"
          }
        },
        {
          "output_type": "display_data",
          "data": {
            "text/plain": [
              "<Figure size 432x288 with 1 Axes>"
            ],
            "image/png": "[encoded data removed]"
          },
          "metadata": {
            "needs_background": "light"
          }
        },
        {
          "output_type": "display_data",
          "data": {
            "text/plain": [
              "<Figure size 432x288 with 1 Axes>"
            ],
            "image/png": "[encoded data removed]"
          },
          "metadata": {
            "needs_background": "light"
          }
        },
        {
          "output_type": "display_data",
          "data": {
            "text/plain": [
              "<Figure size 432x288 with 1 Axes>"
            ],
            "image/png": "[encoded data removed]"
          },
          "metadata": {
            "needs_background": "light"
          }
        },
        {
          "output_type": "display_data",
          "data": {
            "text/plain": [
              "<Figure size 432x288 with 1 Axes>"
            ],
            "image/png": "[encoded data removed]"
          },
          "metadata": {
            "needs_background": "light"
          }
        },
        {
          "output_type": "display_data",
          "data": {
            "text/plain": [
              "<Figure size 432x288 with 1 Axes>"
            ],
            "image/png": "[encoded data removed]"
          },
          "metadata": {
            "needs_background": "light"
          }
        },
        {
          "output_type": "display_data",
          "data": {
            "text/plain": [
              "<Figure size 432x288 with 1 Axes>"
            ],
            "image/png": "[encoded data removed]"
          },
          "metadata": {
            "needs_background": "light"
          }
        },
        {
          "output_type": "display_data",
          "data": {
            "text/plain": [
              "<Figure size 432x288 with 1 Axes>"
            ],
            "image/png": "[encoded data removed]"
          },
          "metadata": {
            "needs_background": "light"
          }
        },
        {
          "output_type": "display_data",
          "data": {
            "text/plain": [
              "<Figure size 432x288 with 1 Axes>"
            ],
            "image/png": "[encoded data removed]"
          },
          "metadata": {
            "needs_background": "light"
          }
        },
        {
          "output_type": "display_data",
          "data": {
            "text/plain": [
              "<Figure size 432x288 with 1 Axes>"
            ],
            "image/png": "[encoded data removed]"
          },
          "metadata": {
            "needs_background": "light"
          }
        },
        {
          "output_type": "display_data",
          "data": {
            "text/plain": [
              "<Figure size 432x288 with 1 Axes>"
            ],
            "image/png": "[encoded data removed]"
          },
          "metadata": {
            "needs_background": "light"
          }
        },
        {
          "output_type": "display_data",
          "data": {
            "text/plain": [
              "<Figure size 432x288 with 1 Axes>"
            ],
            "image/png": "[encoded data removed]"
          },
          "metadata": {
            "needs_background": "light"
          }
        }
      ]
    },
    {
      "cell_type": "code",
      "source": [
        "plt.hist(data[\"size_category\"])"
      ],
      "metadata": {
        "colab": {
          "base_uri": "https://localhost:8080/",
          "height": 317
        },
        "id": "cM6grVnRKJem",
        "outputId": "a3c49799-2107-4eda-d887-3d9638720185"
      },
      "execution_count": 11,
      "outputs": [
        {
          "output_type": "execute_result",
          "data": {
            "text/plain": [
              "(array([378.,   0.,   0.,   0.,   0.,   0.,   0.,   0.,   0., 139.]),\n",
              " array([0. , 0.1, 0.2, 0.3, 0.4, 0.5, 0.6, 0.7, 0.8, 0.9, 1. ]),\n",
              " <a list of 10 Patch objects>)"
            ]
          },
          "metadata": {},
          "execution_count": 11
        },
        {
          "output_type": "display_data",
          "data": {
            "text/plain": [
              "<Figure size 432x288 with 1 Axes>"
            ],
            "image/png": "[encoded data removed]"
          },
          "metadata": {
            "needs_background": "light"
          }
        }
      ]
    },
    {
      "cell_type": "code",
      "source": [
        "plt.figure(figsize=(30,30))\n",
        "import seaborn as sns\n",
        "sns.boxplot(data=data)"
      ],
      "metadata": {
        "colab": {
          "base_uri": "https://localhost:8080/",
          "height": 1000
        },
        "id": "5OhwQxFeMOTP",
        "outputId": "308735c3-f1cd-4cca-cb4a-8e8f63d28106"
      },
      "execution_count": 12,
      "outputs": [
        {
          "output_type": "execute_result",
          "data": {
            "text/plain": [
              "<matplotlib.axes._subplots.AxesSubplot at 0x7f36321a8d50>"
            ]
          },
          "metadata": {},
          "execution_count": 12
        },
        {
          "output_type": "display_data",
          "data": {
            "text/plain": [
              "<Figure size 2160x2160 with 1 Axes>"
            ],
            "image/png": "[encoded data removed]"
          },
          "metadata": {
            "needs_background": "light"
          }
        }
      ]
    },
    {
      "cell_type": "markdown",
      "source": [
        "As we can see our data is imblance, there are many outliers present in our data"
      ],
      "metadata": {
        "id": "RMEKxBgUNHf5"
      }
    },
    {
      "cell_type": "code",
      "source": [
        "data[\"size_category\"].value_counts()"
      ],
      "metadata": {
        "colab": {
          "base_uri": "https://localhost:8080/"
        },
        "id": "iUNgcmufMgnr",
        "outputId": "c21ca199-6d44-4cbb-f3a9-d7cf2835cd60"
      },
      "execution_count": 13,
      "outputs": [
        {
          "output_type": "execute_result",
          "data": {
            "text/plain": [
              "small    378\n",
              "large    139\n",
              "Name: size_category, dtype: int64"
            ]
          },
          "metadata": {},
          "execution_count": 13
        }
      ]
    },
    {
      "cell_type": "markdown",
      "source": [
        "As our Output is (\"Size_Category\") we can see it is also imbalnce"
      ],
      "metadata": {
        "id": "zFx_1FNYQvBm"
      }
    },
    {
      "cell_type": "code",
      "source": [
        "#We are converting \"size_category\"column from catigory to numirical\n",
        "from sklearn import preprocessing\n",
        "encoder = preprocessing.LabelEncoder()\n",
        "data[\"size_category\"] = encoder.fit_transform(data[\"size_category\"])\n",
        "data[\"month\"] = encoder.fit_transform(data[\"month\"])\n",
        "data[\"day\"] = encoder.fit_transform(data[\"day\"])\n",
        "data.head()"
      ],
      "metadata": {
        "colab": {
          "base_uri": "https://localhost:8080/",
          "height": 300
        },
        "id": "_ohyedV4Qn1z",
        "outputId": "cd73cbc2-cd3d-47b5-e602-196a343de27d"
      },
      "execution_count": 14,
      "outputs": [
        {
          "output_type": "execute_result",
          "data": {
            "text/plain": [
              "   month  day  FFMC   DMC     DC  ISI  temp  RH  wind  rain  ...  monthfeb  \\\n",
              "0      7    0  86.2  26.2   94.3  5.1   8.2  51   6.7   0.0  ...         0   \n",
              "1     10    5  90.6  35.4  669.1  6.7  18.0  33   0.9   0.0  ...         0   \n",
              "2     10    2  90.6  43.7  686.9  6.7  14.6  33   1.3   0.0  ...         0   \n",
              "3      7    0  91.7  33.3   77.5  9.0   8.3  97   4.0   0.2  ...         0   \n",
              "4      7    3  89.3  51.3  102.2  9.6  11.4  99   1.8   0.0  ...         0   \n",
              "\n",
              "   monthjan  monthjul  monthjun  monthmar  monthmay  monthnov  monthoct  \\\n",
              "0         0         0         0         1         0         0         0   \n",
              "1         0         0         0         0         0         0         1   \n",
              "2         0         0         0         0         0         0         1   \n",
              "3         0         0         0         1         0         0         0   \n",
              "4         0         0         0         1         0         0         0   \n",
              "\n",
              "   monthsep  size_category  \n",
              "0         0              1  \n",
              "1         0              1  \n",
              "2         0              1  \n",
              "3         0              1  \n",
              "4         0              1  \n",
              "\n",
              "[5 rows x 31 columns]"
            ],
            "text/html": [
              "\n",
              "  <div id=\"df-c7a6e4e7-61ad-46f5-b125-66deffc6c31e\">\n",
              "    <div class=\"colab-df-container\">\n",
              "      <div>\n",
              "<style scoped>\n",
              "    .dataframe tbody tr th:only-of-type {\n",
              "        vertical-align: middle;\n",
              "    }\n",
              "\n",
              "    .dataframe tbody tr th {\n",
              "        vertical-align: top;\n",
              "    }\n",
              "\n",
              "    .dataframe thead th {\n",
              "        text-align: right;\n",
              "    }\n",
              "</style>\n",
              "<table border=\"1\" class=\"dataframe\">\n",
              "  <thead>\n",
              "    <tr style=\"text-align: right;\">\n",
              "      <th></th>\n",
              "      <th>month</th>\n",
              "      <th>day</th>\n",
              "      <th>FFMC</th>\n",
              "      <th>DMC</th>\n",
              "      <th>DC</th>\n",
              "      <th>ISI</th>\n",
              "      <th>temp</th>\n",
              "      <th>RH</th>\n",
              "      <th>wind</th>\n",
              "      <th>rain</th>\n",
              "      <th>...</th>\n",
              "      <th>monthfeb</th>\n",
              "      <th>monthjan</th>\n",
              "      <th>monthjul</th>\n",
              "      <th>monthjun</th>\n",
              "      <th>monthmar</th>\n",
              "      <th>monthmay</th>\n",
              "      <th>monthnov</th>\n",
              "      <th>monthoct</th>\n",
              "      <th>monthsep</th>\n",
              "      <th>size_category</th>\n",
              "    </tr>\n",
              "  </thead>\n",
              "  <tbody>\n",
              "    <tr>\n",
              "      <th>0</th>\n",
              "      <td>7</td>\n",
              "      <td>0</td>\n",
              "      <td>86.2</td>\n",
              "      <td>26.2</td>\n",
              "      <td>94.3</td>\n",
              "      <td>5.1</td>\n",
              "      <td>8.2</td>\n",
              "      <td>51</td>\n",
              "      <td>6.7</td>\n",
              "      <td>0.0</td>\n",
              "      <td>...</td>\n",
              "      <td>0</td>\n",
              "      <td>0</td>\n",
              "      <td>0</td>\n",
              "      <td>0</td>\n",
              "      <td>1</td>\n",
              "      <td>0</td>\n",
              "      <td>0</td>\n",
              "      <td>0</td>\n",
              "      <td>0</td>\n",
              "      <td>1</td>\n",
              "    </tr>\n",
              "    <tr>\n",
              "      <th>1</th>\n",
              "      <td>10</td>\n",
              "      <td>5</td>\n",
              "      <td>90.6</td>\n",
              "      <td>35.4</td>\n",
              "      <td>669.1</td>\n",
              "      <td>6.7</td>\n",
              "      <td>18.0</td>\n",
              "      <td>33</td>\n",
              "      <td>0.9</td>\n",
              "      <td>0.0</td>\n",
              "      <td>...</td>\n",
              "      <td>0</td>\n",
              "      <td>0</td>\n",
              "      <td>0</td>\n",
              "      <td>0</td>\n",
              "      <td>0</td>\n",
              "      <td>0</td>\n",
              "      <td>0</td>\n",
              "      <td>1</td>\n",
              "      <td>0</td>\n",
              "      <td>1</td>\n",
              "    </tr>\n",
              "    <tr>\n",
              "      <th>2</th>\n",
              "      <td>10</td>\n",
              "      <td>2</td>\n",
              "      <td>90.6</td>\n",
              "      <td>43.7</td>\n",
              "      <td>686.9</td>\n",
              "      <td>6.7</td>\n",
              "      <td>14.6</td>\n",
              "      <td>33</td>\n",
              "      <td>1.3</td>\n",
              "      <td>0.0</td>\n",
              "      <td>...</td>\n",
              "      <td>0</td>\n",
              "      <td>0</td>\n",
              "      <td>0</td>\n",
              "      <td>0</td>\n",
              "      <td>0</td>\n",
              "      <td>0</td>\n",
              "      <td>0</td>\n",
              "      <td>1</td>\n",
              "      <td>0</td>\n",
              "      <td>1</td>\n",
              "    </tr>\n",
              "    <tr>\n",
              "      <th>3</th>\n",
              "      <td>7</td>\n",
              "      <td>0</td>\n",
              "      <td>91.7</td>\n",
              "      <td>33.3</td>\n",
              "      <td>77.5</td>\n",
              "      <td>9.0</td>\n",
              "      <td>8.3</td>\n",
              "      <td>97</td>\n",
              "      <td>4.0</td>\n",
              "      <td>0.2</td>\n",
              "      <td>...</td>\n",
              "      <td>0</td>\n",
              "      <td>0</td>\n",
              "      <td>0</td>\n",
              "      <td>0</td>\n",
              "      <td>1</td>\n",
              "      <td>0</td>\n",
              "      <td>0</td>\n",
              "      <td>0</td>\n",
              "      <td>0</td>\n",
              "      <td>1</td>\n",
              "    </tr>\n",
              "    <tr>\n",
              "      <th>4</th>\n",
              "      <td>7</td>\n",
              "      <td>3</td>\n",
              "      <td>89.3</td>\n",
              "      <td>51.3</td>\n",
              "      <td>102.2</td>\n",
              "      <td>9.6</td>\n",
              "      <td>11.4</td>\n",
              "      <td>99</td>\n",
              "      <td>1.8</td>\n",
              "      <td>0.0</td>\n",
              "      <td>...</td>\n",
              "      <td>0</td>\n",
              "      <td>0</td>\n",
              "      <td>0</td>\n",
              "      <td>0</td>\n",
              "      <td>1</td>\n",
              "      <td>0</td>\n",
              "      <td>0</td>\n",
              "      <td>0</td>\n",
              "      <td>0</td>\n",
              "      <td>1</td>\n",
              "    </tr>\n",
              "  </tbody>\n",
              "</table>\n",
              "<p>5 rows × 31 columns</p>\n",
              "</div>\n",
              "      <button class=\"colab-df-convert\" onclick=\"convertToInteractive('df-c7a6e4e7-61ad-46f5-b125-66deffc6c31e')\"\n",
              "              title=\"Convert this dataframe to an interactive table.\"\n",
              "              style=\"display:none;\">\n",
              "        \n",
              "  <svg xmlns=\"http://www.w3.org/2000/svg\" height=\"24px\"viewBox=\"0 0 24 24\"\n",
              "       width=\"24px\">\n",
              "    <path d=\"M0 0h24v24H0V0z\" fill=\"none\"/>\n",
              "    <path d=\"M18.56 5.44l.94 2.06.94-2.06 2.06-.94-2.06-.94-.94-2.06-.94 2.06-2.06.94zm-11 1L8.5 8.5l.94-2.06 2.06-.94-2.06-.94L8.5 2.5l-.94 2.06-2.06.94zm10 10l.94 2.06.94-2.06 2.06-.94-2.06-.94-.94-2.06-.94 2.06-2.06.94z\"/><path d=\"M17.41 7.96l-1.37-1.37c-.4-.4-.92-.59-1.43-.59-.52 0-1.04.2-1.43.59L10.3 9.45l-7.72 7.72c-.78.78-.78 2.05 0 2.83L4 21.41c.39.39.9.59 1.41.59.51 0 1.02-.2 1.41-.59l7.78-7.78 2.81-2.81c.8-.78.8-2.07 0-2.86zM5.41 20L4 18.59l7.72-7.72 1.47 1.35L5.41 20z\"/>\n",
              "  </svg>\n",
              "      </button>\n",
              "      \n",
              "  <style>\n",
              "    .colab-df-container {\n",
              "      display:flex;\n",
              "      flex-wrap:wrap;\n",
              "      gap: 12px;\n",
              "    }\n",
              "\n",
              "    .colab-df-convert {\n",
              "      background-color: #E8F0FE;\n",
              "      border: none;\n",
              "      border-radius: 50%;\n",
              "      cursor: pointer;\n",
              "      display: none;\n",
              "      fill: #1967D2;\n",
              "      height: 32px;\n",
              "      padding: 0 0 0 0;\n",
              "      width: 32px;\n",
              "    }\n",
              "\n",
              "    .colab-df-convert:hover {\n",
              "      background-color: #E2EBFA;\n",
              "      box-shadow: 0px 1px 2px rgba(60, 64, 67, 0.3), 0px 1px 3px 1px rgba(60, 64, 67, 0.15);\n",
              "      fill: #174EA6;\n",
              "    }\n",
              "\n",
              "    [theme=dark] .colab-df-convert {\n",
              "      background-color: #3B4455;\n",
              "      fill: #D2E3FC;\n",
              "    }\n",
              "\n",
              "    [theme=dark] .colab-df-convert:hover {\n",
              "      background-color: #434B5C;\n",
              "      box-shadow: 0px 1px 3px 1px rgba(0, 0, 0, 0.15);\n",
              "      filter: drop-shadow(0px 1px 2px rgba(0, 0, 0, 0.3));\n",
              "      fill: #FFFFFF;\n",
              "    }\n",
              "  </style>\n",
              "\n",
              "      <script>\n",
              "        const buttonEl =\n",
              "          document.querySelector('#df-c7a6e4e7-61ad-46f5-b125-66deffc6c31e button.colab-df-convert');\n",
              "        buttonEl.style.display =\n",
              "          google.colab.kernel.accessAllowed ? 'block' : 'none';\n",
              "\n",
              "        async function convertToInteractive(key) {\n",
              "          const element = document.querySelector('#df-c7a6e4e7-61ad-46f5-b125-66deffc6c31e');\n",
              "          const dataTable =\n",
              "            await google.colab.kernel.invokeFunction('convertToInteractive',\n",
              "                                                     [key], {});\n",
              "          if (!dataTable) return;\n",
              "\n",
              "          const docLinkHtml = 'Like what you see? Visit the ' +\n",
              "            '<a target=\"_blank\" href=https://colab.research.google.com/notebooks/data_table.ipynb>data table notebook</a>'\n",
              "            + ' to learn more about interactive tables.';\n",
              "          element.innerHTML = '';\n",
              "          dataTable['output_type'] = 'display_data';\n",
              "          await google.colab.output.renderOutput(dataTable, element);\n",
              "          const docLink = document.createElement('div');\n",
              "          docLink.innerHTML = docLinkHtml;\n",
              "          element.appendChild(docLink);\n",
              "        }\n",
              "      </script>\n",
              "    </div>\n",
              "  </div>\n",
              "  "
            ]
          },
          "metadata": {},
          "execution_count": 14
        }
      ]
    },
    {
      "cell_type": "code",
      "source": [
        "data[\"size_category\"].value_counts()"
      ],
      "metadata": {
        "colab": {
          "base_uri": "https://localhost:8080/"
        },
        "id": "fYBv8SRfSF7e",
        "outputId": "a0f1f883-e17b-4a74-f22e-dca6172f81ac"
      },
      "execution_count": 15,
      "outputs": [
        {
          "output_type": "execute_result",
          "data": {
            "text/plain": [
              "1    378\n",
              "0    139\n",
              "Name: size_category, dtype: int64"
            ]
          },
          "metadata": {},
          "execution_count": 15
        }
      ]
    },
    {
      "cell_type": "markdown",
      "source": [
        ">\"0\" is large and \"1\" is small - after preprocessing the data"
      ],
      "metadata": {
        "id": "IZUv0eFkS0zW"
      }
    },
    {
      "cell_type": "markdown",
      "source": [
        "# Spliting the data"
      ],
      "metadata": {
        "id": "u-Ljo8ITTLIT"
      }
    },
    {
      "cell_type": "code",
      "source": [
        "x= data.iloc[:,0:30]\n",
        "y=data.iloc[:,30]"
      ],
      "metadata": {
        "id": "V_5TJofbSrKO"
      },
      "execution_count": 16,
      "outputs": []
    },
    {
      "cell_type": "code",
      "source": [
        "x.shape,y.shape"
      ],
      "metadata": {
        "colab": {
          "base_uri": "https://localhost:8080/"
        },
        "id": "nEO0z_euTcyJ",
        "outputId": "89894431-ede0-4d49-baaf-09799bf0494b"
      },
      "execution_count": 17,
      "outputs": [
        {
          "output_type": "execute_result",
          "data": {
            "text/plain": [
              "((517, 30), (517,))"
            ]
          },
          "metadata": {},
          "execution_count": 17
        }
      ]
    },
    {
      "cell_type": "code",
      "source": [
        "#Spliting data with train_test_split\n",
        "x_train, x_test, y_train, y_test = train_test_split(x,y, test_size = 0.2)"
      ],
      "metadata": {
        "id": "UhQjHDDOULus"
      },
      "execution_count": 18,
      "outputs": []
    },
    {
      "cell_type": "code",
      "source": [
        "x_train.shape,x_test.shape,y_train.shape,y_test.shape"
      ],
      "metadata": {
        "colab": {
          "base_uri": "https://localhost:8080/"
        },
        "id": "xvvv5EpdU8BP",
        "outputId": "decba036-d909-4b29-c6dc-12405a0854f4"
      },
      "execution_count": 19,
      "outputs": [
        {
          "output_type": "execute_result",
          "data": {
            "text/plain": [
              "((413, 30), (104, 30), (413,), (104,))"
            ]
          },
          "metadata": {},
          "execution_count": 19
        }
      ]
    },
    {
      "cell_type": "markdown",
      "source": [
        " # Applying Grid Search CV"
      ],
      "metadata": {
        "id": "CfktqZShWe56"
      }
    },
    {
      "cell_type": "code",
      "source": [
        "clf = SVC()\n",
        "param_grid = [{'kernel':[\"rbf\",'poly'],'gamma':[0.5,0.1,0.0001],'C':[10,0.1,0.001,0.0001]}]\n",
        "gsv = GridSearchCV(clf,param_grid,cv=10)\n",
        "gsv.fit(x_train,y_train)"
      ],
      "metadata": {
        "colab": {
          "base_uri": "https://localhost:8080/"
        },
        "id": "TSXkipOoVTRH",
        "outputId": "1a337053-dad6-4620-da08-262baf27e9a7"
      },
      "execution_count": 20,
      "outputs": [
        {
          "output_type": "execute_result",
          "data": {
            "text/plain": [
              "GridSearchCV(cv=10, estimator=SVC(),\n",
              "             param_grid=[{'C': [10, 0.1, 0.001, 0.0001],\n",
              "                          'gamma': [0.5, 0.1, 0.0001],\n",
              "                          'kernel': ['rbf', 'poly']}])"
            ]
          },
          "metadata": {},
          "execution_count": 20
        }
      ]
    },
    {
      "cell_type": "code",
      "source": [
        "gsv.best_params_, gsv.best_score_"
      ],
      "metadata": {
        "colab": {
          "base_uri": "https://localhost:8080/"
        },
        "id": "qjeOC8ioV9Im",
        "outputId": "9c57d2dd-8da7-4105-a45e-8649c9e6b95c"
      },
      "execution_count": 21,
      "outputs": [
        {
          "output_type": "execute_result",
          "data": {
            "text/plain": [
              "({'C': 10, 'gamma': 0.5, 'kernel': 'poly'}, 0.9807200929152149)"
            ]
          },
          "metadata": {},
          "execution_count": 21
        }
      ]
    },
    {
      "cell_type": "markdown",
      "source": [
        "# Building model by using best_params_ & best_score_"
      ],
      "metadata": {
        "id": "4-OLBs-mbgGS"
      }
    },
    {
      "cell_type": "code",
      "source": [
        "clf = SVC(C=10, gamma= 0.0001, kernel='poly')\n",
        "clf.fit(x_train,y_train)\n"
      ],
      "metadata": {
        "colab": {
          "base_uri": "https://localhost:8080/"
        },
        "id": "zvL8nCSdbfsh",
        "outputId": "20e6aeb0-73fe-4044-f1e5-18211ac5331b"
      },
      "execution_count": 22,
      "outputs": [
        {
          "output_type": "execute_result",
          "data": {
            "text/plain": [
              "SVC(C=10, gamma=0.0001, kernel='poly')"
            ]
          },
          "metadata": {},
          "execution_count": 22
        }
      ]
    },
    {
      "cell_type": "code",
      "source": [
        "y_pred = clf.predict(x_test) "
      ],
      "metadata": {
        "id": "e1BgEWDCaD76"
      },
      "execution_count": 23,
      "outputs": []
    },
    {
      "cell_type": "code",
      "source": [
        "acc = accuracy_score(y_test, y_pred)*100\n",
        "print(\"Accuracy=\",acc)"
      ],
      "metadata": {
        "colab": {
          "base_uri": "https://localhost:8080/"
        },
        "id": "viRYmR8kdYCB",
        "outputId": "3c13e8a3-61cc-4d4a-a6dc-be5dc194a71b"
      },
      "execution_count": 24,
      "outputs": [
        {
          "output_type": "stream",
          "name": "stdout",
          "text": [
            "Accuracy= 99.03846153846155\n"
          ]
        }
      ]
    },
    {
      "cell_type": "code",
      "source": [
        "confusion_matrix(y_test, y_pred)"
      ],
      "metadata": {
        "colab": {
          "base_uri": "https://localhost:8080/"
        },
        "id": "Ij2-EBBjds4u",
        "outputId": "901241c1-68c4-4d80-b189-6feefc576876"
      },
      "execution_count": 25,
      "outputs": [
        {
          "output_type": "execute_result",
          "data": {
            "text/plain": [
              "array([[28,  1],\n",
              "       [ 0, 75]])"
            ]
          },
          "metadata": {},
          "execution_count": 25
        }
      ]
    },
    {
      "cell_type": "markdown",
      "source": [
        "# Building model with linear kernel"
      ],
      "metadata": {
        "id": "PafBILw-FNJE"
      }
    },
    {
      "cell_type": "code",
      "source": [
        "clf1 = SVC(C=10, gamma= 0.0001, kernel='linear')\n",
        "clf1.fit(x_train,y_train)"
      ],
      "metadata": {
        "colab": {
          "base_uri": "https://localhost:8080/"
        },
        "id": "fk4T0JooDYfe",
        "outputId": "ba5dfed2-2e5a-4dcb-e421-5a5c39af49da"
      },
      "execution_count": 29,
      "outputs": [
        {
          "output_type": "execute_result",
          "data": {
            "text/plain": [
              "SVC(C=10, gamma=0.0001, kernel='linear')"
            ]
          },
          "metadata": {},
          "execution_count": 29
        }
      ]
    },
    {
      "cell_type": "code",
      "source": [
        "y_pred = clf1.predict(x_test)"
      ],
      "metadata": {
        "id": "0tOxSXfSE4yS"
      },
      "execution_count": 30,
      "outputs": []
    },
    {
      "cell_type": "code",
      "source": [
        "acc = accuracy_score(y_test, y_pred)*100\n",
        "print(\"Accuracy=\",acc)"
      ],
      "metadata": {
        "colab": {
          "base_uri": "https://localhost:8080/"
        },
        "id": "QnN4nAcTFBP4",
        "outputId": "a0c90c5c-4d94-4f0b-eaab-503baa31c58d"
      },
      "execution_count": 31,
      "outputs": [
        {
          "output_type": "stream",
          "name": "stdout",
          "text": [
            "Accuracy= 99.03846153846155\n"
          ]
        }
      ]
    },
    {
      "cell_type": "code",
      "source": [
        "confusion_matrix(y_test, y_pred)"
      ],
      "metadata": {
        "colab": {
          "base_uri": "https://localhost:8080/"
        },
        "id": "KxseTTZ4FFqD",
        "outputId": "3958e3af-4035-4afa-c4aa-c8774f92a857"
      },
      "execution_count": 32,
      "outputs": [
        {
          "output_type": "execute_result",
          "data": {
            "text/plain": [
              "array([[29,  0],\n",
              "       [ 1, 74]])"
            ]
          },
          "metadata": {},
          "execution_count": 32
        }
      ]
    },
    {
      "cell_type": "markdown",
      "source": [
        "# Conclusion\n",
        "-As our linear kernel is giving better results than \"poly\""
      ],
      "metadata": {
        "id": "M6P_q-Q2I3_s"
      }
    },
    {
      "cell_type": "code",
      "source": [],
      "metadata": {
        "id": "Te-6sFS4FJmB"
      },
      "execution_count": null,
      "outputs": []
    }
  ]
}